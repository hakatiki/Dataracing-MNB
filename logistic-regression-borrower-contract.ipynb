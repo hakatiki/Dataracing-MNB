{
 "cells": [
  {
   "cell_type": "code",
   "execution_count": 1,
   "metadata": {},
   "outputs": [],
   "source": [
    "# uni_D83AE5_uni (Baseline)\n",
    "import numpy as np\n",
    "import pandas as pd\n",
    "import matplotlib.pyplot as plt\n",
    "\n",
    "import seaborn as sns\n",
    "from scipy.stats import gamma, kstest\n",
    "from sklearn.linear_model import LogisticRegression\n",
    "from sklearn.ensemble import RandomForestClassifier, GradientBoostingClassifier\n",
    "from sklearn.svm import SVC\n",
    "from sklearn.naive_bayes import GaussianNB\n",
    "from sklearn.neural_network import MLPClassifier\n",
    "import xgboost as xgb\n",
    "from sklearn.preprocessing import StandardScaler\n",
    "from sklearn.model_selection import train_test_split\n",
    "from sklearn.metrics import (\n",
    "    classification_report, \n",
    "    confusion_matrix, \n",
    "    log_loss, \n",
    "    roc_auc_score, \n",
    "    roc_curve, \n",
    "    auc\n",
    ")\n",
    "import statsmodels.api as sm\n",
    "import warnings\n",
    "\n",
    "warnings.filterwarnings('ignore')  # Use this line to suppress warnings\n",
    "warnings.simplefilter(action='ignore', category=FutureWarning)\n",
    "\n",
    "training_data = pd.read_csv('training_data.csv')\n",
    "training_data = training_data[training_data['BORROWER_ID'] != 'xNullx']\n",
    "training_data = training_data.sample(frac=1, random_state=42).reset_index(drop=True)\n",
    "data_submission_example = pd.read_csv('data_submission_example.csv')"
   ]
  },
  {
   "cell_type": "code",
   "execution_count": 2,
   "metadata": {},
   "outputs": [],
   "source": [
    "training_data.fillna(0, inplace=True)\n",
    "for col in training_data.columns:\n",
    "    try:\n",
    "        training_data[col] = pd.to_numeric(training_data[col], errors='ignore')\n",
    "    except:\n",
    "        continue\n",
    "training_data['TARGET_EVENT_BINARY'] = np.where(training_data['TARGET_EVENT'] == 'K', 1, 0)"
   ]
  },
  {
   "cell_type": "code",
   "execution_count": 3,
   "metadata": {},
   "outputs": [],
   "source": [
    "lognormal_variables = [\n",
    "    'CONTRACT_CREDIT_LOSS', 'CONTRACT_DEPT_SERVICE_TO_INCOME',\n",
    "    'CONTRACT_INCOME', 'CONTRACT_INSTALMENT_AMOUNT', 'CONTRACT_INSTALMENT_AMOUNT_2',\n",
    "    'CONTRACT_LOAN_AMOUNT', 'CONTRACT_MARKET_VALUE', 'CONTRACT_MORTGAGE_LENDING_VALUE', \n",
    "    'CONTRACT_LGD', 'CONTRACT_INCOME'\n",
    "]\n",
    "date_variables = ['CONTRACT_DATE_OF_LOAN_AGREEMENT', 'CONTRACT_MATURITY_DATE']"
   ]
  },
  {
   "cell_type": "code",
   "execution_count": 4,
   "metadata": {},
   "outputs": [],
   "source": [
    "training_data['TARGET_EVENT_DAY_DATETIME'] = pd.to_datetime(training_data['TARGET_EVENT_DAY'])\n",
    "training_data['CONTRACT_DATE_OF_LOAN_AGREEMENT_DATETIME'] = pd.to_datetime(training_data['CONTRACT_DATE_OF_LOAN_AGREEMENT'])\n",
    "\n",
    "training_data['DAY_DIFF'] = (training_data['TARGET_EVENT_DAY_DATETIME'] - training_data['CONTRACT_DATE_OF_LOAN_AGREEMENT_DATETIME']).dt.days\n",
    "\n",
    "def create_binary_target_column(dataframe, column_name, event, day_diff_upper_limit):\n",
    "    dataframe[column_name] = np.where(\n",
    "        (dataframe['TARGET_EVENT'] == event) & \n",
    "        (dataframe['DAY_DIFF'] <= day_diff_upper_limit) & \n",
    "        (dataframe['DAY_DIFF'] >= 0), \n",
    "        1, \n",
    "        0\n",
    "    )\n",
    "\n",
    "timeframes = {\n",
    "    'TARGET_EVENT_BINARY_2Y': 730,\n",
    "    'TARGET_EVENT_BINARY_1Y': 365,\n",
    "    'TARGET_EVENT_BINARY_18M': 365 + 365//2,\n",
    "    'TARGET_EVENT_BINARY_9M': 365//4*3,\n",
    "    'TARGET_EVENT_BINARY_6M': 365//2,\n",
    "}\n",
    "\n",
    "for column_name, days in timeframes.items():\n",
    "    create_binary_target_column(training_data, column_name, 'K', days)\n",
    "\n",
    "\n",
    "target_event_binary_columns = []\n",
    "for i in range(6):\n",
    "    start_day = 273 + i * 30\n",
    "    column_header = 'TARGET_EVENT_BINARY_' + str(start_day) + 'D'\n",
    "    training_data[column_header] = np.where(\n",
    "        (training_data['TARGET_EVENT'] == 'K') & \n",
    "        (training_data['DAY_DIFF'] <= start_day) & \n",
    "        (training_data['DAY_DIFF'] >= 0), \n",
    "        1, \n",
    "        0\n",
    "    )\n",
    "    target_event_binary_columns.append(column_header)\n",
    "\n",
    "training_data.drop('DAY_DIFF', axis=1, inplace=True)"
   ]
  },
  {
   "cell_type": "code",
   "execution_count": 5,
   "metadata": {},
   "outputs": [
    {
     "data": {
      "text/plain": [
       "['CONTRACT_CREDIT_INTERMEDIARY',\n",
       " 'CONTRACT_CREDIT_LOSS',\n",
       " 'CONTRACT_CURRENCY',\n",
       " 'CONTRACT_DEPT_SERVICE_TO_INCOME',\n",
       " 'CONTRACT_INCOME',\n",
       " 'CONTRACT_INSTALMENT_AMOUNT',\n",
       " 'CONTRACT_INSTALMENT_AMOUNT_2',\n",
       " 'CONTRACT_INTEREST_PERIOD',\n",
       " 'CONTRACT_INTEREST_RATE',\n",
       " 'CONTRACT_LGD',\n",
       " 'CONTRACT_LOAN_AMOUNT',\n",
       " 'CONTRACT_LOAN_CONTRACT_TYPE',\n",
       " 'CONTRACT_LOAN_TO_VALUE_RATIO',\n",
       " 'CONTRACT_MARKET_VALUE',\n",
       " 'CONTRACT_MORTGAGE_LENDING_VALUE',\n",
       " 'CONTRACT_MORTGAGE_TYPE',\n",
       " 'CONTRACT_REFINANCED',\n",
       " 'CONTRACT_RISK_WEIGHTED_ASSETS',\n",
       " 'CONTRACT_TYPE_OF_INTEREST_REPAYMENT',\n",
       " 'BORROWER_BIRTH_YEAR',\n",
       " 'BORROWER_CITIZENSHIP',\n",
       " 'BORROWER_COUNTRY',\n",
       " 'BORROWER_COUNTY',\n",
       " 'BORROWER_TYPE_OF_SETTLEMENT']"
      ]
     },
     "execution_count": 5,
     "metadata": {},
     "output_type": "execute_result"
    }
   ],
   "source": [
    "numeric_columns = training_data.select_dtypes(include=[np.number]).columns.tolist()\n",
    "excluded_keywords = ['TARGET', 'event', 'binary', 'DATE']\n",
    "\n",
    "X_columns = [col for col in numeric_columns if all(keyword.lower() not in col.lower() for keyword in excluded_keywords)]\n",
    "y_column = 'TARGET_EVENT_BINARY_2Y' \n",
    "X_columns"
   ]
  },
  {
   "cell_type": "code",
   "execution_count": 6,
   "metadata": {},
   "outputs": [],
   "source": [
    "# for var in date_variables:\n",
    "#     training_data[var+ '_JULIAN'] = pd.to_datetime(training_data[var], origin='julian', unit='D')\n",
    "\n",
    "# training_data['TIME_TO_MATURITY'] = (training_data['CONTRACT_MATURITY_DATE_JULIAN'] - training_data['CONTRACT_DATE_OF_LOAN_AGREEMENT_JULIAN']).dt.days\n",
    "\n",
    "# year_2018_date = pd.Timestamp('2018-01-01')\n",
    "# training_data['TIME_TO_MATURITY'] = (training_data['CONTRACT_MATURITY_DATE_JULIAN'] - year_2018_date).dt.days\n",
    "# training_data['ADJUSTED_TIME_TO_MATURITY'] = training_data['TIME_TO_MATURITY'].apply(lambda x: max(min(730, x),0))"
   ]
  },
  {
   "cell_type": "code",
   "execution_count": 7,
   "metadata": {},
   "outputs": [],
   "source": [
    "loan_type_dummies = pd.get_dummies(training_data['CONTRACT_LOAN_TYPE'], prefix='LOAN_TYPE', drop_first=True)\n",
    "frequency_type_dummies = pd.get_dummies(training_data['CONTRACT_FREQUENCY_TYPE'], prefix='FREQ_TYPE', drop_first=True)\n",
    "training_data = pd.concat([training_data, loan_type_dummies, frequency_type_dummies], axis=1)\n",
    "\n",
    "X_columns.extend(loan_type_dummies.columns)\n",
    "X_columns.extend(frequency_type_dummies.columns)"
   ]
  },
  {
   "cell_type": "code",
   "execution_count": 8,
   "metadata": {},
   "outputs": [],
   "source": [
    "training_data['BORROWER_LOAN_COUNT'] = training_data.groupby('BORROWER_ID')['BORROWER_ID'].transform('count')\n",
    "training_data['LOAN_BORROWER_COUNT'] = training_data.groupby('CONTRACT_ID')['CONTRACT_ID'].transform('count')\n",
    "training_data['TOTAL_LOAN_AMOUNT'] = training_data.groupby('BORROWER_ID')['CONTRACT_LOAN_AMOUNT'].transform('sum')\n",
    "training_data['TOTAL_INSTALLMENT_AMOUNT_1'] = training_data.groupby('BORROWER_ID')['CONTRACT_INSTALMENT_AMOUNT'].transform('sum')\n",
    "training_data['TOTAL_INSTALLMENT_AMOUNT_2'] = training_data.groupby('BORROWER_ID')['CONTRACT_INSTALMENT_AMOUNT_2'].transform('sum')\n",
    "training_data['TOTAL_INSTALLMENT_AMOUNT'] = training_data['TOTAL_INSTALLMENT_AMOUNT_1'] + training_data['TOTAL_INSTALLMENT_AMOUNT_2']\n",
    "\n",
    "X_columns.extend(['BORROWER_LOAN_COUNT', 'TOTAL_LOAN_AMOUNT','TOTAL_INSTALLMENT_AMOUNT','LOAN_BORROWER_COUNT'])\n",
    "lognormal_variables.extend([ 'TOTAL_LOAN_AMOUNT','TOTAL_INSTALLMENT_AMOUNT'])"
   ]
  },
  {
   "cell_type": "code",
   "execution_count": 9,
   "metadata": {},
   "outputs": [
    {
     "name": "stdout",
     "output_type": "stream",
     "text": [
      "Variables removed: {'CONTRACT_REFINANCED', 'BORROWER_COUNTRY', 'FREQ_TYPE_2f88e16c'}\n"
     ]
    }
   ],
   "source": [
    "threshold = 0.85\n",
    "correlation_matrix = training_data[X_columns].corr()\n",
    "highly_correlated_set = set()\n",
    "for i in range(len(correlation_matrix.columns)):\n",
    "    for j in range(i):\n",
    "        if abs(correlation_matrix.iloc[i, j]) > threshold:\n",
    "            colname = correlation_matrix.columns[i]\n",
    "            highly_correlated_set.add(colname)\n",
    "\n",
    "X_columns = [col for col in X_columns if col not in highly_correlated_set]\n",
    "print('Variables removed:', highly_correlated_set)"
   ]
  },
  {
   "cell_type": "code",
   "execution_count": 10,
   "metadata": {},
   "outputs": [],
   "source": [
    "def train_and_predict_two_halves(df, variables, target, model1=LogisticRegression(), scaler=StandardScaler()):\n",
    "    if lognormal_variables is not None:\n",
    "        df = df.copy()\n",
    "        \n",
    "        for var in lognormal_variables:\n",
    "            if var == 'CONTRACT_CREDIT_LOSS':\n",
    "                df[var] = np.log1p(np.abs(df[var]))*np.sign(df[var])\n",
    "            else:\n",
    "                df[var] = np.log1p(df[var])\n",
    "    X_scaled = scaler.fit_transform(df[variables])\n",
    "    y = df[target]\n",
    "    model1.fit(X_scaled, y)\n",
    "    proba = model1.predict_proba(X_scaled)[:, 1]\n",
    "    return proba"
   ]
  },
  {
   "cell_type": "code",
   "execution_count": 11,
   "metadata": {},
   "outputs": [],
   "source": [
    "def significant_features(df, variables, target, model1=LogisticRegression(), scaler=StandardScaler()):\n",
    "    if lognormal_variables is not None:\n",
    "        df = df.copy()\n",
    "        \n",
    "        for var in lognormal_variables:\n",
    "            if var == 'CONTRACT_CREDIT_LOSS':\n",
    "                df[var] = np.log1p(np.abs(df[var]))*np.sign(df[var])\n",
    "            else:\n",
    "                df[var] = np.log1p(df[var])\n",
    "\n",
    "    X_scaled = scaler.fit_transform(df[variables])\n",
    "\n",
    "    X = sm.add_constant(pd.DataFrame(X_scaled, columns=variables))\n",
    "    y = df[target]\n",
    "    model = sm.Logit(y, X).fit()\n",
    "    print(model.summary())\n",
    "    p_values = model.pvalues\n",
    "    non_significant_vars = p_values[p_values > 0.05].index.tolist()\n",
    "\n",
    "    return model, non_significant_vars"
   ]
  },
  {
   "cell_type": "code",
   "execution_count": null,
   "metadata": {},
   "outputs": [],
   "source": []
  },
  {
   "cell_type": "code",
   "execution_count": 13,
   "metadata": {},
   "outputs": [],
   "source": [
    "def combined_probability(s):\n",
    "    if len(s) == 2:\n",
    "        p_a, p_b = s.values\n",
    "        return p_a + p_b - p_a * p_b - (-3.2357827075016176e-05)\n",
    "    else:\n",
    "        return 1 - np.prod(1 - s.values)\n",
    "\n",
    "def create_submission_file(df_preds, target, example, filename='submission.csv', testing=False):\n",
    "    # Filter the data to only include BORROWER_IDs that are in the submission example\n",
    "    filtered_training_data = df_preds[df_preds['BORROWER_ID'].isin(example['BORROWER_ID'])]\n",
    "\n",
    "    # Print warning if the row count is off\n",
    "    if not testing and len(filtered_training_data) != 1564601:\n",
    "        print('WARNING: The filtered data does not have the correct number of rows. Make sure you are not using the training data for submission.')\n",
    "        # raise ValueError('WARNING: The submission file does not have the correct number of rows. Make sure you are not using the training data for submission.')\n",
    "    # Group by BORROWER_ID and calculate the combined probability\n",
    "\n",
    "    #######################x########################\n",
    "    #CUTTING TAILS DID NOT SEEM TO WORK\n",
    "    #######################x########################\n",
    "    # filtered_training_data = cut_exponential_tails(filtered_training_data, target)\n",
    "    grouped_data = filtered_training_data.groupby('BORROWER_ID')[target].apply(combined_probability).reset_index()\n",
    "\n",
    "    # Create the submission DataFrame\n",
    "    df_submission = pd.DataFrame()\n",
    "    df_submission['BORROWER_ID'] = grouped_data['BORROWER_ID']\n",
    "    df_submission['PRED'] = grouped_data[target]\n",
    "    print('Before centering:')\n",
    "    print(df_submission['PRED'].max(), df_submission['PRED'].min(), df_submission['PRED'].mean())\n",
    "\n",
    "    print('Centering probabilities...')\n",
    "    # Center the probabilities around 1.48%\n",
    "    desired_mean = 0.0148  # 1.48% as a decimal\n",
    "    while (df_submission['PRED'].max() > 1 or df_submission['PRED'].min() < 0 or abs(df_submission['PRED'].mean() -0.0148) > 0.0005):\n",
    "        # print(df_submission['PRED'].max(), df_submission['PRED'].min(), df_submission['PRED'].mean())\n",
    "        df_submission['PRED'] = df_submission['PRED'].clip(lower=0, upper=1)\n",
    "        # print(df_submission['PRED'].max(), df_submission['PRED'].min(), df_submission['PRED'].mean())\n",
    "\n",
    "        current_mean = df_submission['PRED'].mean()\n",
    "        adjustment_factor = desired_mean  - current_mean\n",
    "        df_submission['PRED'] += adjustment_factor\n",
    "    print(df_submission['PRED'].max(), df_submission['PRED'].min(), df_submission['PRED'].mean())\n",
    "    # Save the submission file\n",
    "    if  not testing and filename is not None:\n",
    "        df_submission.to_csv(filename, index=False)\n",
    "    print(f'Saved file: {filename}')\n",
    "    # if abs(df_submission['PRED'].mean() -0.0148) > 0.0005:\n",
    "    #    raise ValueError('WARNING: mean is bad')\n",
    "        \n",
    "    # Print warning if the row count is off\n",
    "    if not testing and len(df_submission) != 1117674:\n",
    "        print('WARNING: The submission file does not have the correct number of rows. Make sure you are not using the training data for submission.')\n",
    "        # raise ValueError('WARNING: The submission file does not have the correct number of rows. Make sure you are not using the training data for submission.')\n",
    "        \n",
    "    return df_submission\n"
   ]
  },
  {
   "cell_type": "code",
   "execution_count": 14,
   "metadata": {},
   "outputs": [],
   "source": [
    "def test_model_2y_1y(df, variables, target, model1=LogisticRegression(), model2=LogisticRegression()):\n",
    "    df = df.copy()\n",
    "    start_date = pd.Timestamp('2015-01-01')\n",
    "    end_date = pd.Timestamp('2017-01-01')\n",
    "\n",
    "    # Mask for rows with CONTRACT_DATE_OF_LOAN_AGREEMENT_JULIAN between start_date and end_date\n",
    "    mask_date_range = (df['CONTRACT_DATE_OF_LOAN_AGREEMENT_JULIAN'] >= start_date) & (df['CONTRACT_DATE_OF_LOAN_AGREEMENT_JULIAN'] <= end_date)\n",
    "\n",
    "    df = df[mask_date_range]\n",
    "\n",
    "    probs = train_and_predict_two_halves(\n",
    "        df, \n",
    "        variables, \n",
    "        target, \n",
    "        model1=model1,\n",
    "        model2=model2,\n",
    "    )\n",
    "    df['2Y-1Y-PROBS'] = probs\n",
    "    \n",
    "    test_data = pd.read_csv('./data/1y-test.csv')\n",
    "\n",
    "\n",
    "    df_submission = create_submission_file(df, '2Y-1Y-PROBS', test_data, filename=None, testing=True)\n",
    "\n",
    "    merged_df = pd.merge(test_data, df_submission, on='BORROWER_ID')\n",
    "    true_labels = merged_df['TARGET_EVENT_BINARY_1Y']\n",
    "    predicted_probs = merged_df['PRED']\n",
    "    logloss = log_loss(true_labels, predicted_probs)\n",
    "\n",
    "    print(f'Log loss: {logloss}')\n",
    "        \n",
    "    return logloss"
   ]
  },
  {
   "cell_type": "code",
   "execution_count": 15,
   "metadata": {},
   "outputs": [
    {
     "name": "stdout",
     "output_type": "stream",
     "text": [
      "Warning: Maximum number of iterations has been exceeded.\n",
      "         Current function value: 0.016240\n",
      "         Iterations: 35\n",
      "                             Logit Regression Results                             \n",
      "==================================================================================\n",
      "Dep. Variable:     TARGET_EVENT_BINARY_2Y   No. Observations:              1601663\n",
      "Model:                              Logit   Df Residuals:                  1601613\n",
      "Method:                               MLE   Df Model:                           49\n",
      "Date:                    Fri, 03 Nov 2023   Pseudo R-squ.:                  0.6004\n",
      "Time:                            16:58:17   Log-Likelihood:                -26011.\n",
      "converged:                          False   LL-Null:                       -65100.\n",
      "Covariance Type:                nonrobust   LLR p-value:                     0.000\n",
      "=======================================================================================================\n",
      "                                          coef    std err          z      P>|z|      [0.025      0.975]\n",
      "-------------------------------------------------------------------------------------------------------\n",
      "const                                 -10.2434      8.694     -1.178      0.239     -27.283       6.797\n",
      "CONTRACT_CREDIT_INTERMEDIARY            0.0017      0.004      0.408      0.684      -0.006       0.010\n",
      "CONTRACT_CREDIT_LOSS                    4.7373      0.051     93.569      0.000       4.638       4.837\n",
      "CONTRACT_CURRENCY                      -0.0086      0.003     -3.171      0.002      -0.014      -0.003\n",
      "CONTRACT_DEPT_SERVICE_TO_INCOME        -0.0863      0.026     -3.287      0.001      -0.138      -0.035\n",
      "CONTRACT_INCOME                         0.2542      0.026      9.718      0.000       0.203       0.305\n",
      "CONTRACT_INSTALMENT_AMOUNT              0.2449      0.012     20.568      0.000       0.222       0.268\n",
      "CONTRACT_INSTALMENT_AMOUNT_2           -0.1001      0.021     -4.714      0.000      -0.142      -0.058\n",
      "CONTRACT_INTEREST_PERIOD               -0.1076      0.024     -4.515      0.000      -0.154      -0.061\n",
      "CONTRACT_INTEREST_RATE                  0.2717      0.018     15.456      0.000       0.237       0.306\n",
      "CONTRACT_LGD                           -0.5262      0.031    -17.078      0.000      -0.587      -0.466\n",
      "CONTRACT_LOAN_AMOUNT                   -0.0850      0.039     -2.201      0.028      -0.161      -0.009\n",
      "CONTRACT_LOAN_CONTRACT_TYPE             0.7916      0.056     14.220      0.000       0.682       0.901\n",
      "CONTRACT_LOAN_TO_VALUE_RATIO           -0.6006      0.038    -15.852      0.000      -0.675      -0.526\n",
      "CONTRACT_MARKET_VALUE                   0.4064      0.084      4.821      0.000       0.241       0.572\n",
      "CONTRACT_MORTGAGE_LENDING_VALUE        -1.1081      0.079    -14.009      0.000      -1.263      -0.953\n",
      "CONTRACT_MORTGAGE_TYPE                  0.1045      0.028      3.797      0.000       0.051       0.158\n",
      "CONTRACT_RISK_WEIGHTED_ASSETS           0.0309      0.005      5.980      0.000       0.021       0.041\n",
      "CONTRACT_TYPE_OF_INTEREST_REPAYMENT    -0.5837      0.013    -45.459      0.000      -0.609      -0.559\n",
      "BORROWER_BIRTH_YEAR                    -0.2268      0.037     -6.058      0.000      -0.300      -0.153\n",
      "BORROWER_CITIZENSHIP                    0.0299      0.008      3.556      0.000       0.013       0.046\n",
      "BORROWER_COUNTY                        -0.0110      0.013     -0.861      0.389      -0.036       0.014\n",
      "BORROWER_TYPE_OF_SETTLEMENT             0.0432      0.015      2.893      0.004       0.014       0.072\n",
      "LOAN_TYPE_1f951336                      4.4677    337.178      0.013      0.989    -656.390     665.325\n",
      "LOAN_TYPE_2f88e16c                      2.1384    210.581      0.010      0.992    -410.593     414.869\n",
      "LOAN_TYPE_47693941                     -0.0316    149.616     -0.000      1.000    -293.274     293.210\n",
      "LOAN_TYPE_5a06241e                      2.0334    128.720      0.016      0.987    -250.253     254.320\n",
      "LOAN_TYPE_694cbaee                      0.8363     52.783      0.016      0.987    -102.616     104.288\n",
      "LOAN_TYPE_69f70539                      2.9656    228.175      0.013      0.990    -444.249     450.180\n",
      "LOAN_TYPE_7e2065f4                      3.4994    257.858      0.014      0.989    -501.892     508.891\n",
      "LOAN_TYPE_83910425                      1.1635     74.170      0.016      0.987    -144.208     146.535\n",
      "LOAN_TYPE_8fe006f1                     -0.0020   4779.627   -4.2e-07      1.000   -9367.899    9367.895\n",
      "LOAN_TYPE_955ae3ef                      2.8198    209.511      0.013      0.989    -407.815     413.455\n",
      "LOAN_TYPE_95c4f8fb                      0.3008     21.348      0.014      0.989     -41.541      42.142\n",
      "LOAN_TYPE_b503a0de                      7.0892    546.163      0.013      0.990   -1063.370    1077.548\n",
      "LOAN_TYPE_cde77491                     -0.0244    634.590  -3.84e-05      1.000   -1243.799    1243.750\n",
      "LOAN_TYPE_cf07c2dd                      2.3344    168.382      0.014      0.989    -327.689     332.358\n",
      "LOAN_TYPE_d3aaffde                      3.9981    261.685      0.015      0.988    -508.895     516.891\n",
      "LOAN_TYPE_eab72d7a                      0.6068     42.915      0.014      0.989     -83.505      84.719\n",
      "LOAN_TYPE_f792971b                     -0.0103     94.358     -0.000      1.000    -184.949     184.929\n",
      "FREQ_TYPE_3265c5b7                     -0.3260      0.136     -2.400      0.016      -0.592      -0.060\n",
      "FREQ_TYPE_479a2e13                     -0.9354      0.350     -2.671      0.008      -1.622      -0.249\n",
      "FREQ_TYPE_87db11f5                     -0.8272      0.222     -3.727      0.000      -1.262      -0.392\n",
      "FREQ_TYPE_89efd382                     -0.0322      0.021     -1.530      0.126      -0.073       0.009\n",
      "FREQ_TYPE_ad534644                     -0.1019      0.042     -2.438      0.015      -0.184      -0.020\n",
      "FREQ_TYPE_bd092d5a                  -3.846e-06      0.004     -0.001      0.999      -0.008       0.008\n",
      "BORROWER_LOAN_COUNT                    -0.1241      0.020     -6.320      0.000      -0.163      -0.086\n",
      "TOTAL_LOAN_AMOUNT                      -0.4433      0.039    -11.345      0.000      -0.520      -0.367\n",
      "TOTAL_INSTALLMENT_AMOUNT                0.1069      0.017      6.259      0.000       0.073       0.140\n",
      "LOAN_BORROWER_COUNT                     0.0716      0.022      3.317      0.001       0.029       0.114\n",
      "=======================================================================================================\n",
      "\n",
      "Possibly complete quasi-separation: A fraction 0.48 of observations can be\n",
      "perfectly predicted. This might indicate that there is complete\n",
      "quasi-separation. In this case some parameters will not be identified.\n"
     ]
    }
   ],
   "source": [
    "model, non_significant_vars = significant_features(training_data, X_columns, y_column,LogisticRegression())"
   ]
  },
  {
   "cell_type": "code",
   "execution_count": 16,
   "metadata": {},
   "outputs": [
    {
     "data": {
      "text/plain": [
       "['const',\n",
       " 'CONTRACT_CREDIT_INTERMEDIARY',\n",
       " 'BORROWER_COUNTY',\n",
       " 'LOAN_TYPE_1f951336',\n",
       " 'LOAN_TYPE_2f88e16c',\n",
       " 'LOAN_TYPE_47693941',\n",
       " 'LOAN_TYPE_5a06241e',\n",
       " 'LOAN_TYPE_694cbaee',\n",
       " 'LOAN_TYPE_69f70539',\n",
       " 'LOAN_TYPE_7e2065f4',\n",
       " 'LOAN_TYPE_83910425',\n",
       " 'LOAN_TYPE_8fe006f1',\n",
       " 'LOAN_TYPE_955ae3ef',\n",
       " 'LOAN_TYPE_95c4f8fb',\n",
       " 'LOAN_TYPE_b503a0de',\n",
       " 'LOAN_TYPE_cde77491',\n",
       " 'LOAN_TYPE_cf07c2dd',\n",
       " 'LOAN_TYPE_d3aaffde',\n",
       " 'LOAN_TYPE_eab72d7a',\n",
       " 'LOAN_TYPE_f792971b',\n",
       " 'FREQ_TYPE_89efd382',\n",
       " 'FREQ_TYPE_bd092d5a']"
      ]
     },
     "execution_count": 16,
     "metadata": {},
     "output_type": "execute_result"
    }
   ],
   "source": [
    "non_significant_vars"
   ]
  },
  {
   "cell_type": "code",
   "execution_count": 17,
   "metadata": {},
   "outputs": [],
   "source": [
    "X_columns.remove('CONTRACT_CREDIT_INTERMEDIARY')\n",
    "X_columns.remove('BORROWER_COUNTY')"
   ]
  },
  {
   "cell_type": "code",
   "execution_count": 18,
   "metadata": {},
   "outputs": [
    {
     "name": "stdout",
     "output_type": "stream",
     "text": [
      "0.006785876080349979\n",
      "Before centering:\n",
      "0.9978858840423693 8.548717289613705e-15 0.006063585227926563\n",
      "Centering probabilities...\n",
      "1.0 0.008736424229876956 0.01479999999999999\n",
      "Saved file: ./predictions/logistic-regression-one-model.csv\n"
     ]
    }
   ],
   "source": [
    "predicted_probs = 'LOGISTIC_REG'\n",
    "probs = train_and_predict_two_halves(\n",
    "    training_data, \n",
    "    X_columns, \n",
    "    y_column, \n",
    "    model1=LogisticRegression(max_iter=400, C=0.5, random_state=42),\n",
    ")\n",
    "# 0.015985249571782673\n",
    "training_data[predicted_probs] = probs\n",
    "print(probs.mean())\n",
    "submission = create_submission_file(training_data, predicted_probs, data_submission_example, filename='./predictions/logistic-regression-one-model.csv')"
   ]
  },
  {
   "cell_type": "code",
   "execution_count": 19,
   "metadata": {},
   "outputs": [
    {
     "data": {
      "image/png": "[encoded data removed]",
      "text/plain": [
       "<Figure size 640x480 with 1 Axes>"
      ]
     },
     "metadata": {},
     "output_type": "display_data"
    }
   ],
   "source": [
    "sns.histplot(submission, bins=10, kde=True, label='Submission', alpha=0.5,color='red')\n",
    "sns.histplot(training_data['LOGISTIC_REG'], bins=10, kde=True, label='Predicted Probabilities', alpha=0.5, color='blue')\n",
    "plt.yscale('log')\n",
    "plt.legend()\n",
    "plt.title('Overlayed Histogram of Submission and Predicted Probabilities')\n",
    "plt.show()"
   ]
  },
  {
   "cell_type": "code",
   "execution_count": 20,
   "metadata": {},
   "outputs": [],
   "source": [
    "\n",
    "def calculate_probabilities(data, column, time_factor):\n",
    "    lambdas = -np.log(1 - data[column]) / time_factor\n",
    "    probs_2y = 1 - np.exp(-2 * lambdas)\n",
    "    return probs_2y\n"
   ]
  },
  {
   "cell_type": "code",
   "execution_count": 21,
   "metadata": {},
   "outputs": [
    {
     "name": "stdout",
     "output_type": "stream",
     "text": [
      "2Y-6M\n"
     ]
    }
   ],
   "source": [
    "\n",
    "logistic_model = LogisticRegression(max_iter=400, C=0.5, random_state=42)\n",
    "time_periods = {\n",
    "    # '1Y': 1,\n",
    "    # '18M': 1.5,\n",
    "    # '9M': 0.75,\n",
    "    '6M': 0.5\n",
    "}\n",
    "for suffix, time_factor in time_periods.items():\n",
    "    print(f\"2Y-{suffix}\")\n",
    "    probs = train_and_predict_two_halves(\n",
    "        training_data, \n",
    "        X_columns, \n",
    "        f'TARGET_EVENT_BINARY_{suffix}', \n",
    "        model1=logistic_model\n",
    "    )\n",
    "    training_data[f'LOGISTIC_REG_{suffix}'] = probs\n",
    "    training_data[f'{suffix}_PROBA'] = calculate_probabilities(training_data, f'LOGISTIC_REG_{suffix}', time_factor)"
   ]
  },
  {
   "cell_type": "code",
   "execution_count": 164,
   "metadata": {},
   "outputs": [
    {
     "data": {
      "text/plain": [
       "True"
      ]
     },
     "execution_count": 164,
     "metadata": {},
     "output_type": "execute_result"
    }
   ],
   "source": [
    "sns.kdeplot(submission, label='Submission', lw=3, alpha=1)\n",
    "sns.kdeplot(training_data['LOGISTIC_REG'], label='OG', lw=3, alpha=1)\n",
    "sns.kdeplot(training_data['18M_PROBA'], label='18M', lw=3, alpha=1)\n",
    "sns.kdeplot(training_data['9M_PROBA'], label='9M', lw=3, alpha=1)\n",
    "sns.kdeplot(training_data['6M_PROBA'], label='6M', lw=3, alpha=1)\n",
    "sns.kdeplot(training_data['1Y_PROBA'], label='1Y', lw=3, alpha=1)\n",
    "sns.kdeplot(training_data['1Y_PROBA']*0.5+training_data['6M_PROBA']*0.5, label='1Y and 6M mix', lw=3, alpha=1)\n",
    "\n",
    "plt.yscale('log')\n",
    "plt.legend()\n",
    "plt.title('Overlayed Histogram of Submission and Predicted Probabilities')\n",
    "plt.show()"
   ]
  },
  {
   "cell_type": "code",
   "execution_count": 171,
   "metadata": {},
   "outputs": [
    {
     "name": "stdout",
     "output_type": "stream",
     "text": [
      "0.014810940173227698 0.9999999966674054 5.551115123125783e-15 0.0884959510283018\n"
     ]
    },
    {
     "data": {
      "image/png": "[encoded data removed]",
      "text/plain": [
       "<Figure size 640x480 with 1 Axes>"
      ]
     },
     "metadata": {},
     "output_type": "display_data"
    }
   ],
   "source": [
    "experiment_probs = calculate_probabilities(training_data, 'LOGISTIC_REG_6M', 0.6376923076923077)\n",
    "print(experiment_probs.mean(), experiment_probs.max(), experiment_probs.min(), experiment_probs.std())\n",
    "sns.kdeplot(submission, label='Submission', lw=3, alpha=1)\n",
    "sns.kdeplot(training_data['LOGISTIC_REG'], label='OG', lw=3, alpha=1)\n",
    "sns.kdeplot(training_data['18M_PROBA'], label='18M', lw=3, alpha=1)\n",
    "sns.kdeplot(training_data['9M_PROBA'], label='9M', lw=3, alpha=1)\n",
    "sns.kdeplot(training_data['6M_PROBA'], label='6M', lw=3, alpha=1)\n",
    "sns.kdeplot(training_data['1Y_PROBA'], label='1Y', lw=3, alpha=1)\n",
    "sns.kdeplot(experiment_probs, label='Random', lw=3, alpha=1)\n",
    "\n",
    "plt.yscale('log')\n",
    "plt.legend()\n",
    "plt.title('Overlayed Histogram of Submission and Predicted Probabilities')\n",
    "plt.show()"
   ]
  },
  {
   "cell_type": "code",
   "execution_count": 23,
   "metadata": {},
   "outputs": [
    {
     "name": "stdout",
     "output_type": "stream",
     "text": [
      "0.015575901439723577 0.9999999994255928 6.106226635438361e-15 0.09162013689902006\n",
      "Before centering:\n",
      "1.0000323361576025 2.919886554764162e-14 0.014797564788727033\n",
      "Centering probabilities...\n",
      "1.0 2.435324307306988e-06 0.014799999999999995\n",
      "Saved file: ./predictions/prediction-with-time-param-5.85.csv\n"
     ]
    }
   ],
   "source": [
    "experiment_probs = calculate_probabilities(training_data, 'LOGISTIC_REG_6M', 0.585)\n",
    "print(experiment_probs.mean(), experiment_probs.max(), experiment_probs.min(), experiment_probs.std())\n",
    "training_data['EXPERIMENT_PROBS'] = experiment_probs\n",
    "submission_exp = create_submission_file(training_data, 'EXPERIMENT_PROBS', data_submission_example, filename='./predictions/prediction-with-time-param-585.csv')"
   ]
  },
  {
   "cell_type": "code",
   "execution_count": 22,
   "metadata": {},
   "outputs": [
    {
     "name": "stdout",
     "output_type": "stream",
     "text": [
      "0.59\n",
      "0.015499461548846325 0.9999999993120902 5.995204332975845e-15 0.09131273513489623\n",
      "Before centering:\n",
      "1.0000323326619682 2.8976820942716586e-14 0.014716857271833672\n",
      "Centering probabilities...\n",
      "1.0 8.314476719519133e-05 0.014800000000000002\n",
      "Saved file: ./predictions/tmp.csv\n",
      "0.5944444444444444\n",
      "0.0154322296260962 0.9999999991945548 5.995204332975845e-15 0.09104149006817056\n",
      "Before centering:\n",
      "1.0000323291446918 2.8754776337791554e-14 0.014645939414464574\n",
      "Centering probabilities...\n",
      "1.0 0.00015406555845053072 0.014799999999999999\n",
      "Saved file: ./predictions/tmp.csv\n",
      "0.5988888888888889\n",
      "0.015365658686151895 0.9999999990591429 5.88418203051333e-15 0.09077210495370812\n",
      "Before centering:\n",
      "1.0000323251992287 2.853273173286652e-14 0.014575781203660328\n",
      "Centering probabilities...\n",
      "1.0 0.000224227120950337 0.014800000000000002\n",
      "Saved file: ./predictions/tmp.csv\n",
      "0.6033333333333333\n",
      "0.015299737844943399 0.9999999989034788 5.88418203051333e-15 0.09050455784803249\n",
      "Before centering:\n",
      "1.00003232078145 2.8310687127941492e-14 0.014506369404541895\n",
      "Centering probabilities...\n",
      "1.0 0.00029364238654128183 0.014799999999999995\n",
      "Saved file: ./predictions/tmp.csv\n",
      "0.6077777777777778\n",
      "0.015234456478188479 0.9999999987249185 5.88418203051333e-15 0.09023882720014573\n",
      "Before centering:\n",
      "1.0000323158435511 2.808864252301646e-14 0.014437691108509527\n",
      "Centering probabilities...\n",
      "1.0 0.0003623242944887743 0.014799999999999995\n",
      "Saved file: ./predictions/tmp.csv\n",
      "0.6122222222222222\n",
      "0.015169804213186073 0.9999999985205253 5.773159728050814e-15 0.08997489184148628\n",
      "Before centering:\n",
      "1.000032310333829 2.7977620220553945e-14 0.014369733722754045\n",
      "Centering probabilities...\n",
      "1.0 0.0004302853925043492 0.014800000000000006\n",
      "Saved file: ./predictions/tmp.csv\n",
      "0.6166666666666667\n",
      "0.015105770920932588 0.9999999982870433 5.773159728050814e-15 0.08971273097624048\n",
      "Before centering:\n",
      "1.0000323041964467 2.7755575615628914e-14 0.014302484960184651\n",
      "Centering probabilities...\n",
      "1.0 0.0004975378940018232 0.014799999999999995\n",
      "Saved file: ./predictions/tmp.csv\n",
      "0.6211111111111111\n",
      "0.015042346708545328 0.9999999980208693 5.773159728050814e-15 0.08945232417199125\n",
      "Before centering:\n",
      "1.0000322973711944 2.7533531010703882e-14 0.014235932829753262\n",
      "Centering probabilities...\n",
      "1.0 0.000564093732402151 0.014800000000000002\n",
      "Saved file: ./predictions/tmp.csv\n",
      "0.6255555555555555\n",
      "0.014979521911979408 0.999999997718023 5.662137425588298e-15 0.08919365135068909\n",
      "Before centering:\n",
      "1.0000322897932392 2.731148640577885e-14 0.014170065627156881\n",
      "Centering probabilities...\n",
      "1.0 0.0006299646065433123 0.014799999999999999\n",
      "Saved file: ./predictions/tmp.csv\n",
      "0.63\n",
      "0.014917287089024208 0.9999999973741158 5.662137425588298e-15 0.08893669277993042\n",
      "Before centering:\n",
      "1.0000322813928717 2.708944180085382e-14 0.014104871925900703\n",
      "Centering probabilities...\n",
      "1.0 0.0006951620028265177 0.014800000000000006\n",
      "Saved file: ./predictions/tmp.csv\n"
     ]
    }
   ],
   "source": [
    "for i in np.linspace(0.59, 0.63, 10):\n",
    "    print(i)\n",
    "    experiment_probs = calculate_probabilities(training_data, 'LOGISTIC_REG_6M', i)\n",
    "    print(experiment_probs.mean(), experiment_probs.max(), experiment_probs.min(), experiment_probs.std())\n",
    "    training_data['EXPERIMENT_PROBS'] = experiment_probs\n",
    "    submission_exp = create_submission_file(training_data, 'EXPERIMENT_PROBS', data_submission_example, filename='./predictions/tmp.csv')"
   ]
  },
  {
   "cell_type": "code",
   "execution_count": 73,
   "metadata": {},
   "outputs": [
    {
     "name": "stdout",
     "output_type": "stream",
     "text": [
      "Before centering:\n",
      "0.9999999263775705 2.275957200481571e-14 0.012557540025643158\n",
      "Centering probabilities...\n",
      "1.0 0.002242561959868836 0.014799999999999999\n",
      "Saved file: ./predictions/logistic-reg-9m-2y.csv\n"
     ]
    }
   ],
   "source": [
    "# submission_1y_2y = create_submission_file(training_data, '1Y_PROBA', data_submission_example, filename='./predictions/tmp.csv')\n",
    "# submission_1y_18m = create_submission_file(training_data, '18M_PROBA', data_submission_example, filename='./predictions/tmp.csv')\n",
    "submission_1y_9m = create_submission_file(training_data, '9M_PROBA', data_submission_example, filename='./predictions/logistic-reg-9m-2y.csv')\n",
    "# submission_1y_6m = create_submission_file(training_data, '6M_PROBA', data_submission_example, filename='./predictions/tmp.csv')"
   ]
  },
  {
   "cell_type": "code",
   "execution_count": 25,
   "metadata": {},
   "outputs": [
    {
     "name": "stdout",
     "output_type": "stream",
     "text": [
      "Before centering:\n",
      "0.9999955305137177 1.709743457922741e-14 0.010279658216347512\n",
      "Centering probabilities...\n",
      "1.0 0.00452043496900666 0.014800000000000002\n",
      "Saved file: ./predictions/logistic-regression-2y-1y.csv\n"
     ]
    }
   ],
   "source": [
    "# submission_1y_2y = create_submission_file(training_data, '2Y_PROBA', data_submission_example, filename='./predictions/logistic-regression-2y-1y.csv')"
   ]
  },
  {
   "cell_type": "code",
   "execution_count": 146,
   "metadata": {},
   "outputs": [
    {
     "name": "stdout",
     "output_type": "stream",
     "text": [
      "Done with TARGET_EVENT_BINARY_273D\n",
      "Done with TARGET_EVENT_BINARY_303D\n"
     ]
    }
   ],
   "source": [
    "for target_day in target_event_binary_columns[:2]:\n",
    "    probs = train_and_predict_two_halves(\n",
    "    training_data, \n",
    "    X_columns, \n",
    "    target_day, \n",
    "    model1=LogisticRegression(max_iter=400, C=0.5, random_state=42),\n",
    "    )\n",
    "    training_data[target_day+'_PROBS'] = probs\n",
    "    print(f\"Done with {target_day}\")\n",
    "\n",
    "for target_day in target_event_binary_columns[:2]:\n",
    "    day_str = target_event_binary_columns[0].split('_')[-1].split('D')[0]\n",
    "    day_int = int(day_str)\n",
    "    lambdas = -np.log(1 - training_data[target_day+'_PROBS'])/day_int*365\n",
    "    probs = 1 - np.exp(-2 * lambdas)\n",
    "    training_data[target_day + '_2Y_LAMBDA'] = lambdas\n",
    "    training_data[target_day + '_2Y_PROBS'] = probs"
   ]
  },
  {
   "cell_type": "code",
   "execution_count": 157,
   "metadata": {},
   "outputs": [
    {
     "data": {
      "text/plain": [
       "True"
      ]
     },
     "execution_count": 157,
     "metadata": {},
     "output_type": "execute_result"
    }
   ],
   "source": [
    "(training_data['TARGET_EVENT_BINARY_273D_PROBS'] == training_data['TARGET_EVENT_BINARY_303D_PROBS']).all()"
   ]
  },
  {
   "cell_type": "code",
   "execution_count": 148,
   "metadata": {},
   "outputs": [
    {
     "name": "stdout",
     "output_type": "stream",
     "text": [
      "All rows have a zero standard deviation of lambdas.\n"
     ]
    }
   ],
   "source": [
    "\n",
    "lambda_columns = [col + '_2Y_LAMBDA' for col in target_event_binary_columns[:2]]\n",
    "training_data['lambda_std'] = training_data[lambda_columns].std(axis=1)\n",
    "\n",
    "# Find rows where the standard deviation of the lambdas is not zero\n",
    "rows_with_nonzero_std = training_data[training_data['lambda_std'] != 0]\n",
    "\n",
    "# Check if there are any rows with a standard deviation of lambdas that is not zero\n",
    "any_nonzero_std = not rows_with_nonzero_std.empty\n",
    "\n",
    "if any_nonzero_std:\n",
    "    print(\"There are rows with a non-zero standard deviation of lambdas.\")\n",
    "else:\n",
    "    print(\"All rows have a zero standard deviation of lambdas.\")\n"
   ]
  },
  {
   "cell_type": "code",
   "execution_count": 108,
   "metadata": {},
   "outputs": [
    {
     "name": "stderr",
     "output_type": "stream",
     "text": [
      "C:\\Users\\takat\\AppData\\Local\\Temp\\ipykernel_20048\\4027356923.py:2: UserWarning: Dataset has 0 variance; skipping density estimate. Pass `warn_singular=False` to disable this warning.\n",
      "  sns.kdeplot(first_row_lambdas, color='viridis')\n"
     ]
    },
    {
     "data": {
      "image/png": "[encoded data removed]",
      "text/plain": [
       "<Figure size 640x480 with 1 Axes>"
      ]
     },
     "metadata": {},
     "output_type": "display_data"
    }
   ],
   "source": [
    "first_row_lambdas = [training_data[target_day + '_2Y_LAMBDA'].iloc[0] for target_day in target_event_bindary_columns]\n",
    "sns.kdeplot(first_row_lambdas, color='viridis')\n",
    "plt.show()\n",
    "# a, loc, scale = gamma.fit(first_row_lambdas)\n",
    "# statistic, pvalue = kstest(first_row_lambdas, 'gamma', args=(a, loc, scale))\n",
    "# print(f\"KS Statistic: {statistic}, P-value: {pvalue}\")"
   ]
  },
  {
   "cell_type": "code",
   "execution_count": 29,
   "metadata": {},
   "outputs": [],
   "source": [
    "probs = train_and_predict_two_halves(\n",
    "    training_data, \n",
    "    X_columns, \n",
    "    y_column, \n",
    "    model1=RandomForestClassifier(n_estimators=100, max_depth=2, random_state=42),\n",
    ")\n",
    "training_data['RANDOM_FOREST'] = probs\n",
    "\n",
    "sns.kdeplot(submission, label='Submission', lw=3, alpha=1)\n",
    "sns.kdeplot(training_data['RANDOM_FOREST'], label='RF', lw=3, alpha=1)\n",
    "sns.kdeplot(training_data['LOGISTIC_REG'], label='OG', lw=3, alpha=1)\n",
    "plt.legend()\n",
    "plt.yscale('log')\n",
    "plt.legend()\n",
    "plt.title('Overlayed Histogram of Submission and Predicted Probabilities')\n",
    "plt.show()\n",
    "\n",
    "submission_rf = create_submission_file(training_data, 'RANDOM_FOREST',data_submission_example, filename='./predictions/random-forrest-2y-exp-no-multicolinearity-lognormal-time-no-dates.csv')"
   ]
  },
  {
   "cell_type": "code",
   "execution_count": 32,
   "metadata": {},
   "outputs": [
    {
     "name": "stdout",
     "output_type": "stream",
     "text": [
      "Before centering:\n",
      "0.8675531219873692 0.0026670801246374554 0.008599946438351795\n",
      "Centering probabilities...\n",
      "0.8737531755490174 0.008867133686285661 0.014800000000000002\n",
      "Saved file: ./predictions/random-forrest-2y-exp-no-multicolinearity-lognormal-time-no-dates.csv\n"
     ]
    }
   ],
   "source": [
    "probs = train_and_predict_two_halves(\n",
    "    training_data, \n",
    "    X_columns, \n",
    "    y_column, \n",
    "    model1=xgb.XGBClassifier(max_depth=3, random_state=42, use_label_encoder=False, eval_metric='logloss'),\n",
    ")\n",
    "training_data['XGBOOST'] = probs\n",
    "\n",
    "sns.kdeplot(submission, label='Submission', lw=3, alpha=1)\n",
    "sns.kdeplot(training_data['XGBOOST'], label='RF', lw=3, alpha=1)\n",
    "sns.kdeplot(training_data['LOGISTIC_REG'], label='OG', lw=3, alpha=1)\n",
    "plt.legend()\n",
    "plt.yscale('log')\n",
    "plt.legend()\n",
    "plt.title('Overlayed Histogram of Submission and Predicted Probabilities')\n",
    "plt.show()\n",
    "\n",
    "submission_xgb = create_submission_file(training_data, 'XGBOOST',data_submission_example, filename='./predictions/xgb-2y-exp-no-multicolinearity-lognormal-time-no-dates.csv')"
   ]
  },
  {
   "cell_type": "code",
   "execution_count": null,
   "metadata": {},
   "outputs": [
    {
     "name": "stderr",
     "output_type": "stream",
     "text": [
      "c:\\Users\\takat\\AppData\\Local\\Programs\\Python\\Python311\\Lib\\site-packages\\sklearn\\linear_model\\_logistic.py:460: ConvergenceWarning: lbfgs failed to converge (status=1):\n",
      "STOP: TOTAL NO. of ITERATIONS REACHED LIMIT.\n",
      "\n",
      "Increase the number of iterations (max_iter) or scale the data as shown in:\n",
      "    https://scikit-learn.org/stable/modules/preprocessing.html\n",
      "Please also refer to the documentation for alternative solver options:\n",
      "    https://scikit-learn.org/stable/modules/linear_model.html#logistic-regression\n",
      "  n_iter_i = _check_optimize_result(\n",
      "c:\\Users\\takat\\AppData\\Local\\Programs\\Python\\Python311\\Lib\\site-packages\\sklearn\\linear_model\\_logistic.py:460: ConvergenceWarning: lbfgs failed to converge (status=1):\n",
      "STOP: TOTAL NO. of ITERATIONS REACHED LIMIT.\n",
      "\n",
      "Increase the number of iterations (max_iter) or scale the data as shown in:\n",
      "    https://scikit-learn.org/stable/modules/preprocessing.html\n",
      "Please also refer to the documentation for alternative solver options:\n",
      "    https://scikit-learn.org/stable/modules/linear_model.html#logistic-regression\n",
      "  n_iter_i = _check_optimize_result(\n"
     ]
    },
    {
     "name": "stdout",
     "output_type": "stream",
     "text": [
      "Evaluation of Model 1 on df2:\n",
      "Classification Report:\n",
      "              precision    recall  f1-score   support\n",
      "\n",
      "           0       0.99      1.00      1.00    509478\n",
      "           1       0.60      0.39      0.47      5071\n",
      "\n",
      "    accuracy                           0.99    514549\n",
      "   macro avg       0.79      0.69      0.73    514549\n",
      "weighted avg       0.99      0.99      0.99    514549\n",
      "\n",
      "Log Loss:\n",
      "0.020154686217490652\n",
      "Confusion Matrix:\n",
      "[[508136   1342]\n",
      " [  3093   1978]]\n",
      "Evaluation of Model 2 on df1:\n",
      "Classification Report:\n",
      "              precision    recall  f1-score   support\n",
      "\n",
      "           0       0.99      1.00      1.00    509480\n",
      "           1       0.60      0.40      0.48      5069\n",
      "\n",
      "    accuracy                           0.99    514549\n",
      "   macro avg       0.80      0.70      0.74    514549\n",
      "weighted avg       0.99      0.99      0.99    514549\n",
      "\n",
      "Log Loss:\n",
      "0.02041090972095113\n",
      "Confusion Matrix:\n",
      "[[508121   1359]\n",
      " [  3032   2037]]\n",
      "Centering probabilities...\n",
      "1.0 0.0027108450789681583 0.014800000000000004\n",
      "Saved file: None\n",
      "Log loss: 0.02449711803718221\n",
      "LogisticRegression(max_iter=400, penalty=None, random_state=42)\n",
      "Logloss is  0.02449711803718221\n",
      "-----------------------------------------\n"
     ]
    },
    {
     "name": "stderr",
     "output_type": "stream",
     "text": [
      "c:\\Users\\takat\\AppData\\Local\\Programs\\Python\\Python311\\Lib\\site-packages\\sklearn\\linear_model\\_logistic.py:1192: UserWarning: Setting penalty=None will ignore the C and l1_ratio parameters\n",
      "  warnings.warn(\n",
      "c:\\Users\\takat\\AppData\\Local\\Programs\\Python\\Python311\\Lib\\site-packages\\sklearn\\linear_model\\_logistic.py:460: ConvergenceWarning: lbfgs failed to converge (status=1):\n",
      "STOP: TOTAL NO. of ITERATIONS REACHED LIMIT.\n",
      "\n",
      "Increase the number of iterations (max_iter) or scale the data as shown in:\n",
      "    https://scikit-learn.org/stable/modules/preprocessing.html\n",
      "Please also refer to the documentation for alternative solver options:\n",
      "    https://scikit-learn.org/stable/modules/linear_model.html#logistic-regression\n",
      "  n_iter_i = _check_optimize_result(\n",
      "c:\\Users\\takat\\AppData\\Local\\Programs\\Python\\Python311\\Lib\\site-packages\\sklearn\\linear_model\\_logistic.py:1192: UserWarning: Setting penalty=None will ignore the C and l1_ratio parameters\n",
      "  warnings.warn(\n",
      "c:\\Users\\takat\\AppData\\Local\\Programs\\Python\\Python311\\Lib\\site-packages\\sklearn\\linear_model\\_logistic.py:460: ConvergenceWarning: lbfgs failed to converge (status=1):\n",
      "STOP: TOTAL NO. of ITERATIONS REACHED LIMIT.\n",
      "\n",
      "Increase the number of iterations (max_iter) or scale the data as shown in:\n",
      "    https://scikit-learn.org/stable/modules/preprocessing.html\n",
      "Please also refer to the documentation for alternative solver options:\n",
      "    https://scikit-learn.org/stable/modules/linear_model.html#logistic-regression\n",
      "  n_iter_i = _check_optimize_result(\n"
     ]
    },
    {
     "name": "stdout",
     "output_type": "stream",
     "text": [
      "Evaluation of Model 1 on df2:\n",
      "Classification Report:\n",
      "              precision    recall  f1-score   support\n",
      "\n",
      "           0       0.99      1.00      1.00    509478\n",
      "           1       0.60      0.39      0.47      5071\n",
      "\n",
      "    accuracy                           0.99    514549\n",
      "   macro avg       0.79      0.69      0.73    514549\n",
      "weighted avg       0.99      0.99      0.99    514549\n",
      "\n",
      "Log Loss:\n",
      "0.020154686217490652\n",
      "Confusion Matrix:\n",
      "[[508136   1342]\n",
      " [  3093   1978]]\n",
      "Evaluation of Model 2 on df1:\n",
      "Classification Report:\n",
      "              precision    recall  f1-score   support\n",
      "\n",
      "           0       0.99      1.00      1.00    509480\n",
      "           1       0.60      0.40      0.48      5069\n",
      "\n",
      "    accuracy                           0.99    514549\n",
      "   macro avg       0.80      0.70      0.74    514549\n",
      "weighted avg       0.99      0.99      0.99    514549\n",
      "\n",
      "Log Loss:\n",
      "0.02041090972095113\n",
      "Confusion Matrix:\n",
      "[[508121   1359]\n",
      " [  3032   2037]]\n",
      "Centering probabilities...\n",
      "1.0 0.0027108450789681583 0.014800000000000004\n",
      "Saved file: None\n",
      "Log loss: 0.02449711803718221\n",
      "LogisticRegression(C=0.5, max_iter=400, penalty=None, random_state=42)\n",
      "Logloss is  0.02449711803718221\n",
      "-----------------------------------------\n"
     ]
    }
   ],
   "source": [
    "\n",
    "from sklearn.linear_model import LogisticRegression\n",
    "from sklearn.ensemble import RandomForestClassifier, GradientBoostingClassifier\n",
    "from sklearn.svm import SVC\n",
    "from sklearn.naive_bayes import GaussianNB\n",
    "import xgboost as xgb\n",
    "from sklearn.neighbors import KNeighborsClassifier\n",
    "from lightgbm import LGBMClassifier\n",
    "\n",
    "models =  [\n",
    "    (LogisticRegression(max_iter=400, penalty=None, C=1.0, random_state=42),\n",
    "     LogisticRegression(max_iter=400, penalty=None, C=1.0, random_state=42)),\n",
    "    \n",
    "   (LogisticRegression(max_iter=400, penalty=None, C=0.5, random_state=42),\n",
    "     LogisticRegression(max_iter=400, penalty=None, C=0.5, random_state=42)),\n",
    "]\n",
    "\n",
    "best_logloss = 100\n",
    "best_models = None\n",
    "for model in models:\n",
    "\n",
    "    logloss = test_model_2y_1y(\n",
    "        training_data, \n",
    "        X_columns, \n",
    "        'TARGET_EVENT_BINARY_1Y',\n",
    "        model1=model[0],\n",
    "        model2=model[1],\n",
    "    )\n",
    "    if logloss < best_logloss:\n",
    "        best_logloss = logloss\n",
    "        best_models = model\n",
    "    print(model[0])\n",
    "    print('Logloss is ', logloss)\n",
    "    print('-----------------------------------------')"
   ]
  },
  {
   "cell_type": "code",
   "execution_count": null,
   "metadata": {},
   "outputs": [],
   "source": []
  },
  {
   "cell_type": "code",
   "execution_count": null,
   "metadata": {},
   "outputs": [],
   "source": []
  },
  {
   "cell_type": "code",
   "execution_count": null,
   "metadata": {},
   "outputs": [],
   "source": []
  },
  {
   "cell_type": "code",
   "execution_count": null,
   "metadata": {},
   "outputs": [],
   "source": []
  },
  {
   "cell_type": "code",
   "execution_count": null,
   "metadata": {},
   "outputs": [],
   "source": []
  },
  {
   "cell_type": "code",
   "execution_count": null,
   "metadata": {},
   "outputs": [],
   "source": []
  },
  {
   "cell_type": "code",
   "execution_count": null,
   "metadata": {},
   "outputs": [],
   "source": []
  },
  {
   "cell_type": "code",
   "execution_count": null,
   "metadata": {},
   "outputs": [],
   "source": []
  },
  {
   "cell_type": "code",
   "execution_count": null,
   "metadata": {},
   "outputs": [],
   "source": []
  },
  {
   "cell_type": "code",
   "execution_count": null,
   "metadata": {},
   "outputs": [],
   "source": []
  },
  {
   "cell_type": "code",
   "execution_count": null,
   "metadata": {},
   "outputs": [],
   "source": []
  },
  {
   "cell_type": "code",
   "execution_count": null,
   "metadata": {},
   "outputs": [],
   "source": [
    "groups_by_size = {}\n",
    "\n",
    "# Initialize a dictionary to hold covariance matrices by group size\n",
    "cov_matrices_by_size = {}\n",
    "\n",
    "# Group by 'BORROWER_ID' and iterate through the first 100 groups\n",
    "for idx, (name, group) in enumerate(training_data.groupby('BORROWER_ID')):\n",
    "    if idx % 100 == 0: \n",
    "        print('At index', idx)\n",
    "        \n",
    "    if idx == 50000:\n",
    "        break\n",
    "    \n",
    "    # Sort the group by CONTRACT_DATE_OF_LOAN_AGREEMENT\n",
    "    group = group.sort_values(by='CONTRACT_DATE_OF_LOAN_AGREEMENT')\n",
    "    \n",
    "    group_size = len(group)\n",
    "    if group_size not in groups_by_size:\n",
    "        groups_by_size[group_size] = []\n",
    "        \n",
    "    groups_by_size[group_size].append(group)\n",
    "\n",
    "# Initialize a new dictionary to hold the merged DataFrames by size\n",
    "merged_groups_by_size = {}\n",
    "\n",
    "for size, dfs in groups_by_size.items():\n",
    "    # Merge all DataFrames of the same size into a single DataFrame\n",
    "    merged_df = pd.concat(dfs, ignore_index=True)\n",
    "    # Store the merged DataFrame in the new dictionary\n",
    "    merged_groups_by_size[size] = merged_df\n",
    "\n",
    "# Now, merged_groups_by_size contains the merged DataFrames categorized by group size\n"
   ]
  },
  {
   "cell_type": "code",
   "execution_count": null,
   "metadata": {},
   "outputs": [
    {
     "name": "stderr",
     "output_type": "stream",
     "text": [
      "C:\\Users\\takat\\AppData\\Local\\Temp\\ipykernel_13332\\2391036120.py:12: RuntimeWarning: Degrees of freedom <= 0 for slice\n",
      "  cov_matrix = np.cov(merged_df['TARGET_EVENT_BINARY'].values.reshape(size,-1))\n",
      "c:\\Users\\takat\\AppData\\Local\\Programs\\Python\\Python311\\Lib\\site-packages\\numpy\\lib\\function_base.py:2748: RuntimeWarning: divide by zero encountered in divide\n",
      "  c *= np.true_divide(1, fact)\n",
      "c:\\Users\\takat\\AppData\\Local\\Programs\\Python\\Python311\\Lib\\site-packages\\numpy\\lib\\function_base.py:2748: RuntimeWarning: invalid value encountered in multiply\n",
      "  c *= np.true_divide(1, fact)\n"
     ]
    }
   ],
   "source": [
    "import json\n",
    "import numpy as np\n",
    "import pandas as pd\n",
    "\n",
    "# Your code to generate groups_by_size and merged_groups_by_size\n",
    "\n",
    "cov_matrices_by_size = {}\n",
    "\n",
    "for size, merged_df in merged_groups_by_size.items():\n",
    "    if size > 1:  # Covariance matrix for single-element arrays doesn't make sense\n",
    "        try:\n",
    "            cov_matrix = np.cov(merged_df['TARGET_EVENT_BINARY'].values.reshape(size,-1))\n",
    "            if not np.isnan(cov_matrix).any():  # Check for NaN values\n",
    "                cov_matrices_by_size[size] = cov_matrix.tolist()  # Convert numpy array to list for JSON serialization\n",
    "        except Exception as e:\n",
    "            print(f\"An error occurred while calculating the covariance matrix for size {size}: {e}\")\n",
    "\n",
    "# Ensure that the dictionary contains only JSON-serializable items\n",
    "serializable_cov_matrices_by_size = {k: v.tolist() if isinstance(v, np.ndarray) else v for k, v in cov_matrices_by_size.items()}\n",
    "\n",
    "# Save to JSON\n",
    "with open('./data/cov_matrices_by_size.json', 'w') as f:\n",
    "    json.dump(serializable_cov_matrices_by_size, f)\n"
   ]
  },
  {
   "cell_type": "code",
   "execution_count": null,
   "metadata": {},
   "outputs": [
    {
     "data": {
      "text/plain": [
       "{2: [[0.005868589752778426, -3.2357827075016176e-05],\n",
       "  [-3.2357827075016176e-05, 0.005451716043799604]],\n",
       " 3: [[0.007337144521720125, -2.6009019928111114e-05, -2.6009019928111046e-05],\n",
       "  [-2.6009019928111114e-05, 0.003507502116019551, -1.2385247584814735e-05],\n",
       "  [-2.6009019928111046e-05, -1.2385247584814735e-05, 0.003507502116019557]],\n",
       " 4: [[0.0023364421983921592,\n",
       "   -1.3695440787761734e-05,\n",
       "   -5.478176315104693e-06,\n",
       "   -8.217264472657053e-06],\n",
       "  [-1.3695440787761734e-05,\n",
       "   0.005820562334798763,\n",
       "   -1.3695440787761748e-05,\n",
       "   -2.054316118164268e-05],\n",
       "  [-5.478176315104693e-06,\n",
       "   -1.3695440787761748e-05,\n",
       "   0.0023364421983921558,\n",
       "   -8.217264472657026e-06],\n",
       "  [-8.217264472657053e-06,\n",
       "   -2.054316118164268e-05,\n",
       "   -8.217264472657026e-06,\n",
       "   0.003500554665351909]],\n",
       " 8: [[0.0, 0.0, 0.0, 0.0, 0.0, 0.0, 0.0, 0.0],\n",
       "  [0.0, 0.0, 0.0, 0.0, 0.0, 0.0, 0.0, 0.0],\n",
       "  [0.0, 0.0, 0.0, 0.0, 0.0, 0.0, 0.0, 0.0],\n",
       "  [0.0, 0.0, 0.0, 0.0, 0.0, 0.0, 0.0, 0.0],\n",
       "  [0.0, 0.0, 0.0, 0.0, 0.0, 0.0, 0.0, 0.0],\n",
       "  [0.0, 0.0, 0.0, 0.0, 0.0, 0.0, 0.0, 0.0],\n",
       "  [0.0, 0.0, 0.0, 0.0, 0.0, 0.0, 0.0, 0.0],\n",
       "  [0.0, 0.0, 0.0, 0.0, 0.0, 0.0, 0.0, 0.0]],\n",
       " 5: [[0.013199554069119256,\n",
       "   -0.00022296544035674517,\n",
       "   -0.00013377926421404707,\n",
       "   -4.4593088071349e-05,\n",
       "   -8.918617614269807e-05],\n",
       "  [-0.00022296544035674517,\n",
       "   0.016443701226309938,\n",
       "   -0.0001672240802675587,\n",
       "   -5.574136008918631e-05,\n",
       "   -0.00011148272017837272],\n",
       "  [-0.00013377926421404707,\n",
       "   -0.0001672240802675587,\n",
       "   0.009933110367893017,\n",
       "   -3.344481605351181e-05,\n",
       "   -6.688963210702361e-05],\n",
       "  [-4.4593088071349e-05,\n",
       "   -5.574136008918631e-05,\n",
       "   -3.344481605351181e-05,\n",
       "   0.003333333333333323,\n",
       "   -2.2296544035674506e-05],\n",
       "  [-8.918617614269807e-05,\n",
       "   -0.00011148272017837272,\n",
       "   -6.688963210702361e-05,\n",
       "   -2.2296544035674506e-05,\n",
       "   0.006644370122630978]],\n",
       " 6: [[0.0, 0.0, 0.0, 0.0, 0.0, 0.0],\n",
       "  [0.0, 0.020197769829581318, 0.0, 0.0, 0.0, 0.0],\n",
       "  [0.0, 0.0, 0.0, 0.0, 0.0, 0.0],\n",
       "  [0.0, 0.0, 0.0, 0.0, 0.0, 0.0],\n",
       "  [0.0, 0.0, 0.0, 0.0, 0.0, 0.0],\n",
       "  [0.0, 0.0, 0.0, 0.0, 0.0, 0.0]],\n",
       " 7: [[0.0, 0.0, 0.0, 0.0, 0.0, 0.0, 0.0],\n",
       "  [0.0, 0.028571428571428577, 0.0, 0.0, 0.0, 0.0, 0.0],\n",
       "  [0.0, 0.0, 0.0, 0.0, 0.0, 0.0, 0.0],\n",
       "  [0.0, 0.0, 0.0, 0.0, 0.0, 0.0, 0.0],\n",
       "  [0.0, 0.0, 0.0, 0.0, 0.0, 0.0, 0.0],\n",
       "  [0.0, 0.0, 0.0, 0.0, 0.0, 0.0, 0.0],\n",
       "  [0.0, 0.0, 0.0, 0.0, 0.0, 0.0, 0.0]],\n",
       " 9: [[0.0, 0.0, 0.0, 0.0, 0.0, 0.0, 0.0, 0.0, 0.0],\n",
       "  [0.0, 0.0, 0.0, 0.0, 0.0, 0.0, 0.0, 0.0, 0.0],\n",
       "  [0.0, 0.0, 0.0, 0.0, 0.0, 0.0, 0.0, 0.0, 0.0],\n",
       "  [0.0, 0.0, 0.0, 0.0, 0.0, 0.0, 0.0, 0.0, 0.0],\n",
       "  [0.0, 0.0, 0.0, 0.0, 0.0, 0.0, 0.0, 0.0, 0.0],\n",
       "  [0.0, 0.0, 0.0, 0.0, 0.0, 0.11111111111111109, 0.0, 0.0, 0.0],\n",
       "  [0.0, 0.0, 0.0, 0.0, 0.0, 0.0, 0.0, 0.0, 0.0],\n",
       "  [0.0, 0.0, 0.0, 0.0, 0.0, 0.0, 0.0, 0.0, 0.0],\n",
       "  [0.0, 0.0, 0.0, 0.0, 0.0, 0.0, 0.0, 0.0, 0.0]]}"
      ]
     },
     "execution_count": 21,
     "metadata": {},
     "output_type": "execute_result"
    }
   ],
   "source": [
    "cov_matrices_by_size"
   ]
  },
  {
   "cell_type": "code",
   "execution_count": null,
   "metadata": {},
   "outputs": [],
   "source": [
    "# Save to JSON\n",
    "import json\n",
    "\n",
    "with open('cov_matrices_by_size.json', 'w') as f:\n",
    "    json.dump(cov_matrices_by_size, f)"
   ]
  }
 ],
 "metadata": {
  "kernelspec": {
   "display_name": "Python 3",
   "language": "python",
   "name": "python3"
  },
  "language_info": {
   "codemirror_mode": {
    "name": "ipython",
    "version": 3
   },
   "file_extension": ".py",
   "mimetype": "text/x-python",
   "name": "python",
   "nbconvert_exporter": "python",
   "pygments_lexer": "ipython3",
   "version": "3.11.5"
  }
 },
 "nbformat": 4,
 "nbformat_minor": 2
}
