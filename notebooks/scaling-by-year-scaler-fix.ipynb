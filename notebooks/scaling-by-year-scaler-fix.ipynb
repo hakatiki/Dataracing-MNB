{
 "cells": [
  {
   "cell_type": "code",
   "execution_count": 1,
   "metadata": {},
   "outputs": [],
   "source": [
    "# uni_D83AE5_uni (Baseline)\n",
    "# {\"Logloss\": 0.028862768444821975, \"ROCAUC\": 0.9784058122382846}\n",
    "import numpy as np\n",
    "import pandas as pd\n",
    "import matplotlib.pyplot as plt\n",
    "\n",
    "import seaborn as sns\n",
    "from scipy.stats import gamma, kstest\n",
    "from sklearn.linear_model import LogisticRegression\n",
    "from sklearn.ensemble import RandomForestClassifier, GradientBoostingClassifier\n",
    "from sklearn.svm import SVC\n",
    "from sklearn.naive_bayes import GaussianNB\n",
    "from sklearn.neural_network import MLPClassifier\n",
    "import xgboost as xgb\n",
    "from sklearn.preprocessing import StandardScaler\n",
    "from sklearn.model_selection import train_test_split\n",
    "from sklearn.metrics import (\n",
    "    classification_report, \n",
    "    confusion_matrix, \n",
    "    log_loss, \n",
    "    roc_auc_score, \n",
    "    roc_curve, \n",
    "    auc\n",
    ")\n",
    "import statsmodels.api as sm\n",
    "import warnings\n",
    "\n",
    "warnings.filterwarnings('ignore')  # Use this line to suppress warnings\n",
    "warnings.simplefilter(action='ignore', category=FutureWarning)\n",
    "\n",
    "training_data = pd.read_csv('training_data.csv')\n",
    "training_data = training_data[training_data['BORROWER_ID'] != 'xNullx']\n",
    "training_data = training_data.sample(frac=1, random_state=42).reset_index(drop=True)\n",
    "data_submission_example = pd.read_csv('data_submission_example.csv')"
   ]
  },
  {
   "cell_type": "code",
   "execution_count": 2,
   "metadata": {},
   "outputs": [],
   "source": [
    "training_data.fillna(0, inplace=True)\n",
    "for col in training_data.columns:\n",
    "    try:\n",
    "        training_data[col] = pd.to_numeric(training_data[col], errors='ignore')\n",
    "    except:\n",
    "        continue\n",
    "training_data['TARGET_EVENT_BINARY'] = np.where(training_data['TARGET_EVENT'] == 'K', 1, 0)"
   ]
  },
  {
   "cell_type": "code",
   "execution_count": 3,
   "metadata": {},
   "outputs": [],
   "source": [
    "lognormal_variables = [\n",
    "    'CONTRACT_CREDIT_LOSS', 'CONTRACT_DEPT_SERVICE_TO_INCOME',\n",
    "    'CONTRACT_INCOME', 'CONTRACT_INSTALMENT_AMOUNT', 'CONTRACT_INSTALMENT_AMOUNT_2',\n",
    "    'CONTRACT_LOAN_AMOUNT', 'CONTRACT_MARKET_VALUE', 'CONTRACT_MORTGAGE_LENDING_VALUE', \n",
    "    'CONTRACT_LGD', 'CONTRACT_INCOME'\n",
    "]\n",
    "date_variables = ['CONTRACT_DATE_OF_LOAN_AGREEMENT', 'CONTRACT_MATURITY_DATE']"
   ]
  },
  {
   "cell_type": "code",
   "execution_count": 4,
   "metadata": {},
   "outputs": [],
   "source": [
    "training_data['TARGET_EVENT_DAY'].replace(0.0, np.nan, inplace=True)\n",
    "training_data['TARGET_EVENT_DAY_JULIAN'] = pd.to_datetime(training_data['TARGET_EVENT_DAY'], origin='julian', unit='D', errors='coerce')\n",
    "training_data['TARGET_EVENT_DAY_DATETIME'] = pd.to_datetime(training_data['TARGET_EVENT_DAY_JULIAN'],  errors='coerce')\n",
    "\n",
    "training_data['CONTRACT_DATE_OF_LOAN_AGREEMENT_JULIAN'] = pd.to_datetime(training_data['CONTRACT_DATE_OF_LOAN_AGREEMENT'], origin='julian', unit='D')\n",
    "training_data['CONTRACT_DATE_OF_LOAN_AGREEMENT_DATETIME'] = pd.to_datetime(training_data['CONTRACT_DATE_OF_LOAN_AGREEMENT_JULIAN'],)\n",
    "\n",
    "training_data['CONTRACT_MATURITY_DATE_JULIAN'] = pd.to_datetime(training_data['CONTRACT_MATURITY_DATE'], origin='julian', unit='D')\n",
    "training_data['CONTRACT_MATURITY_DATE_DATETIME'] = pd.to_datetime(training_data['CONTRACT_MATURITY_DATE_JULIAN'])"
   ]
  },
  {
   "cell_type": "code",
   "execution_count": 5,
   "metadata": {},
   "outputs": [],
   "source": [
    "training_data['DAY_DIFF'] = (training_data['TARGET_EVENT_DAY_DATETIME'] - training_data['CONTRACT_DATE_OF_LOAN_AGREEMENT_DATETIME']).dt.days"
   ]
  },
  {
   "cell_type": "code",
   "execution_count": 6,
   "metadata": {},
   "outputs": [],
   "source": [
    "def create_binary_target_column(dataframe, column_name, event, day_diff_upper_limit):\n",
    "    dataframe[column_name] = np.where(\n",
    "        (dataframe['TARGET_EVENT'] == event) & \n",
    "        (dataframe['DAY_DIFF'] <= day_diff_upper_limit) & \n",
    "        (dataframe['DAY_DIFF'] >= 0), \n",
    "        1, \n",
    "        0\n",
    "    )\n",
    "\n",
    "timeframes = {\n",
    "    'TARGET_EVENT_BINARY_2Y': 730,\n",
    "    'TARGET_EVENT_BINARY_1Y': 365,\n",
    "    'TARGET_EVENT_BINARY_6M': 365//2,\n",
    "}\n",
    "\n",
    "for column_name, days in timeframes.items():\n",
    "    create_binary_target_column(training_data, column_name, 'K', days)\n",
    "\n",
    "\n",
    "# target_event_binary_columns = []\n",
    "# for i in range(6):\n",
    "#     start_day = 273 + i * 30\n",
    "#     column_header = 'TARGET_EVENT_BINARY_' + str(start_day) + 'D'\n",
    "#     training_data[column_header] = np.where(\n",
    "#         (training_data['TARGET_EVENT'] == 'K') & \n",
    "#         (training_data['DAY_DIFF'] <= start_day) & \n",
    "#         (training_data['DAY_DIFF'] >= 0), \n",
    "#         1, \n",
    "#         0\n",
    "#     )\n",
    "#     target_event_binary_columns.append(column_header)\n",
    "\n",
    "training_data.drop('DAY_DIFF', axis=1, inplace=True)"
   ]
  },
  {
   "cell_type": "code",
   "execution_count": 7,
   "metadata": {},
   "outputs": [
    {
     "name": "stdout",
     "output_type": "stream",
     "text": [
      "TARGET_EVENT_BINARY\n",
      "0    1590792\n",
      "1      10871\n",
      "Name: count, dtype: int64\n",
      "TARGET_EVENT_BINARY_2Y\n",
      "0    1591751\n",
      "1       9912\n",
      "Name: count, dtype: int64\n",
      "TARGET_EVENT_BINARY_1Y\n",
      "0    1596927\n",
      "1       4736\n",
      "Name: count, dtype: int64\n",
      "TARGET_EVENT_BINARY_6M\n",
      "0    1601267\n",
      "1        396\n",
      "Name: count, dtype: int64\n"
     ]
    }
   ],
   "source": [
    "print(training_data['TARGET_EVENT_BINARY'].value_counts())\n",
    "print(training_data['TARGET_EVENT_BINARY_2Y'].value_counts())\n",
    "print(training_data['TARGET_EVENT_BINARY_1Y'].value_counts())\n",
    "print(training_data['TARGET_EVENT_BINARY_6M'].value_counts())"
   ]
  },
  {
   "cell_type": "code",
   "execution_count": 8,
   "metadata": {},
   "outputs": [
    {
     "data": {
      "text/plain": [
       "['CONTRACT_CREDIT_INTERMEDIARY',\n",
       " 'CONTRACT_CREDIT_LOSS',\n",
       " 'CONTRACT_CURRENCY',\n",
       " 'CONTRACT_DEPT_SERVICE_TO_INCOME',\n",
       " 'CONTRACT_INCOME',\n",
       " 'CONTRACT_INSTALMENT_AMOUNT',\n",
       " 'CONTRACT_INSTALMENT_AMOUNT_2',\n",
       " 'CONTRACT_INTEREST_PERIOD',\n",
       " 'CONTRACT_INTEREST_RATE',\n",
       " 'CONTRACT_LGD',\n",
       " 'CONTRACT_LOAN_AMOUNT',\n",
       " 'CONTRACT_LOAN_CONTRACT_TYPE',\n",
       " 'CONTRACT_LOAN_TO_VALUE_RATIO',\n",
       " 'CONTRACT_MARKET_VALUE',\n",
       " 'CONTRACT_MORTGAGE_LENDING_VALUE',\n",
       " 'CONTRACT_MORTGAGE_TYPE',\n",
       " 'CONTRACT_REFINANCED',\n",
       " 'CONTRACT_RISK_WEIGHTED_ASSETS',\n",
       " 'CONTRACT_TYPE_OF_INTEREST_REPAYMENT',\n",
       " 'BORROWER_BIRTH_YEAR',\n",
       " 'BORROWER_CITIZENSHIP',\n",
       " 'BORROWER_COUNTRY',\n",
       " 'BORROWER_COUNTY',\n",
       " 'BORROWER_TYPE_OF_SETTLEMENT']"
      ]
     },
     "execution_count": 8,
     "metadata": {},
     "output_type": "execute_result"
    }
   ],
   "source": [
    "numeric_columns = training_data.select_dtypes(include=[np.number]).columns.tolist()\n",
    "excluded_keywords = ['TARGET', 'event', 'binary', 'DATE']\n",
    "\n",
    "X_columns = [col for col in numeric_columns if all(keyword.lower() not in col.lower() for keyword in excluded_keywords)]\n",
    "y_column = 'TARGET_EVENT_BINARY_2Y' \n",
    "X_columns"
   ]
  },
  {
   "cell_type": "code",
   "execution_count": 9,
   "metadata": {},
   "outputs": [],
   "source": [
    "# for var in date_variables:\n",
    "#     training_data[var+ '_JULIAN'] = pd.to_datetime(training_data[var], origin='julian', unit='D')\n",
    "\n",
    "# training_data['TIME_TO_MATURITY'] = (training_data['CONTRACT_MATURITY_DATE_JULIAN'] - training_data['CONTRACT_DATE_OF_LOAN_AGREEMENT_JULIAN']).dt.days\n",
    "\n",
    "# year_2018_date = pd.Timestamp('2018-01-01')\n",
    "# training_data['TIME_TO_MATURITY'] = (training_data['CONTRACT_MATURITY_DATE_JULIAN'] - year_2018_date).dt.days\n",
    "# training_data['ADJUSTED_TIME_TO_MATURITY'] = training_data['TIME_TO_MATURITY'].apply(lambda x: max(min(730, x),0))"
   ]
  },
  {
   "cell_type": "code",
   "execution_count": 10,
   "metadata": {},
   "outputs": [],
   "source": [
    "loan_type_dummies = pd.get_dummies(training_data['CONTRACT_LOAN_TYPE'], prefix='LOAN_TYPE', drop_first=True)\n",
    "frequency_type_dummies = pd.get_dummies(training_data['CONTRACT_FREQUENCY_TYPE'], prefix='FREQ_TYPE', drop_first=True)\n",
    "training_data = pd.concat([training_data, loan_type_dummies, frequency_type_dummies], axis=1)\n",
    "\n",
    "X_columns.extend(loan_type_dummies.columns)\n",
    "X_columns.extend(frequency_type_dummies.columns)"
   ]
  },
  {
   "cell_type": "code",
   "execution_count": 11,
   "metadata": {},
   "outputs": [],
   "source": [
    "training_data['BORROWER_LOAN_COUNT'] = training_data.groupby('BORROWER_ID')['BORROWER_ID'].transform('count')\n",
    "training_data['LOAN_BORROWER_COUNT'] = training_data.groupby('CONTRACT_ID')['CONTRACT_ID'].transform('count')\n",
    "training_data['TOTAL_LOAN_AMOUNT'] = training_data.groupby('BORROWER_ID')['CONTRACT_LOAN_AMOUNT'].transform('sum')\n",
    "training_data['TOTAL_INSTALLMENT_AMOUNT_1'] = training_data.groupby('BORROWER_ID')['CONTRACT_INSTALMENT_AMOUNT'].transform('sum')\n",
    "training_data['TOTAL_INSTALLMENT_AMOUNT_2'] = training_data.groupby('BORROWER_ID')['CONTRACT_INSTALMENT_AMOUNT_2'].transform('sum')\n",
    "training_data['TOTAL_INSTALLMENT_AMOUNT'] = training_data['TOTAL_INSTALLMENT_AMOUNT_1'] + training_data['TOTAL_INSTALLMENT_AMOUNT_2']\n",
    "\n",
    "X_columns.extend(['BORROWER_LOAN_COUNT', 'TOTAL_LOAN_AMOUNT','TOTAL_INSTALLMENT_AMOUNT','LOAN_BORROWER_COUNT'])\n",
    "lognormal_variables.extend([ 'TOTAL_LOAN_AMOUNT','TOTAL_INSTALLMENT_AMOUNT'])"
   ]
  },
  {
   "cell_type": "code",
   "execution_count": 12,
   "metadata": {},
   "outputs": [
    {
     "name": "stdout",
     "output_type": "stream",
     "text": [
      "Variables removed: {'CONTRACT_REFINANCED', 'FREQ_TYPE_2f88e16c', 'BORROWER_COUNTRY'}\n"
     ]
    }
   ],
   "source": [
    "threshold = 0.85\n",
    "correlation_matrix = training_data[X_columns].corr()\n",
    "highly_correlated_set = set()\n",
    "for i in range(len(correlation_matrix.columns)):\n",
    "    for j in range(i):\n",
    "        if abs(correlation_matrix.iloc[i, j]) > threshold:\n",
    "            colname = correlation_matrix.columns[i]\n",
    "            highly_correlated_set.add(colname)\n",
    "\n",
    "X_columns = [col for col in X_columns if col not in highly_correlated_set]\n",
    "print('Variables removed:', highly_correlated_set)"
   ]
  },
  {
   "cell_type": "code",
   "execution_count": 13,
   "metadata": {},
   "outputs": [
    {
     "name": "stdout",
     "output_type": "stream",
     "text": [
      "Mean in year 2018: 0.0012732178879253885\n",
      "9183\n",
      "7861.309378806333\n"
     ]
    }
   ],
   "source": [
    "def default_percentage_generator_2016(df, percentage, target):\n",
    "    df_copy = df.copy()\n",
    "    df_filtered = df_copy[df_copy['CONTRACT_DATE_OF_LOAN_AGREEMENT_DATETIME'] < '2016-01-01']\n",
    "    df_mean = df_filtered[target].mean()\n",
    "    print(f\"Mean in year {df_mean}\")\n",
    "    df_defautled = df_filtered[target].sum()\n",
    "    df_not_defaulted = len(df_filtered) - df_defautled\n",
    "\n",
    "    required_val = (df_defautled - percentage * len(df_filtered))/(percentage - 1)\n",
    "    \n",
    "    df_filtered_after = df_copy[df_copy['CONTRACT_DATE_OF_LOAN_AGREEMENT_DATETIME'] > '2016-01-01']\n",
    "    df_filtered_after = df_filtered_after[df_filtered_after[target]==1] \n",
    "    print(len(df_filtered_after))\n",
    "    print(required_val)\n",
    "    required_val = min(int(required_val) ,len(df_filtered_after))\n",
    "    df_filtered_after = df_filtered_after.sample(n=int(required_val),random_state=42).reset_index(drop=True)\n",
    "\n",
    "    df_filtered = pd.concat([df_filtered, df_filtered_after])\n",
    "\n",
    "    return df_filtered\n",
    "\n",
    "def default_percentage_generator_2017(df, percentage, target):\n",
    "    df_copy = df.copy()\n",
    "    df_filtered = df_copy[(df_copy['CONTRACT_DATE_OF_LOAN_AGREEMENT_DATETIME'] > '2016-01-01') &\n",
    "                          (df_copy['CONTRACT_DATE_OF_LOAN_AGREEMENT_DATETIME'] < '2017-01-01')] \n",
    "    df_mean = df_filtered[target].mean()\n",
    "    print(f\"Mean in year 2017 {df_mean}\")\n",
    "    df_defautled = df_filtered[target].sum()\n",
    "    df_not_defaulted = len(df_filtered) - df_defautled\n",
    "\n",
    "    required_val = (df_defautled - percentage * len(df_filtered))/(percentage - 1)\n",
    "    \n",
    "    df_filtered_after = df_copy[df_copy['CONTRACT_DATE_OF_LOAN_AGREEMENT_DATETIME'] < '2016-01-01']\n",
    "    df_filtered_after = df_filtered_after[df_filtered_after[target]==1] \n",
    "    print(len(df_filtered_after))\n",
    "    print(required_val)\n",
    "    required_val = min(int(required_val) ,len(df_filtered_after))\n",
    "    df_filtered_after = df_filtered_after.sample(n=int(required_val),random_state=42).reset_index(drop=True)\n",
    "\n",
    "    df_filtered = pd.concat([df_filtered, df_filtered_after])\n",
    "\n",
    "    return df_filtered\n",
    "\n",
    "def default_percentage_generator_2018(df, percentage, target):\n",
    "    df_copy = df.copy()\n",
    "    df_filtered = df_copy[(df_copy['CONTRACT_DATE_OF_LOAN_AGREEMENT_DATETIME'] > '2017-01-01')] \n",
    "    df_mean = df_filtered[target].mean()\n",
    "    print(f\"Mean in year 2018: {df_mean}\")\n",
    "    df_defautled = df_filtered[target].sum()\n",
    "    df_not_defaulted = len(df_filtered) - df_defautled\n",
    "\n",
    "    required_val = (df_defautled - percentage * len(df_filtered))/(percentage - 1)\n",
    "    \n",
    "    df_filtered_after = df_copy[df_copy['CONTRACT_DATE_OF_LOAN_AGREEMENT_DATETIME'] < '2017-01-01']\n",
    "    df_filtered_after = df_filtered_after[df_filtered_after[target]==1] \n",
    "    print(len(df_filtered_after))\n",
    "    print(required_val)\n",
    "    required_val = min(int(required_val) ,len(df_filtered_after))\n",
    "    df_filtered_after = df_filtered_after.sample(n=int(required_val),random_state=42).reset_index(drop=True)\n",
    "\n",
    "    df_filtered = pd.concat([df_filtered, df_filtered_after])\n",
    "\n",
    "    return df_filtered\n",
    "\n",
    "new_df = default_percentage_generator_2018(training_data, 1.48/100, 'TARGET_EVENT_BINARY_2Y')"
   ]
  },
  {
   "cell_type": "code",
   "execution_count": 14,
   "metadata": {},
   "outputs": [],
   "source": [
    "def calculate_probabilities(data, column, time_factor):\n",
    "    lambdas = -np.log(1 - data[column]) / time_factor\n",
    "    probs_2y = 1 - np.exp(-2 * lambdas)\n",
    "    return probs_2y\n",
    "def calculate_probabilities_vec(data, time_factor):\n",
    "    lambdas = -np.log(1 - data) / time_factor\n",
    "    probs_2y = 1 - np.exp(-2 * lambdas)\n",
    "    return probs_2y"
   ]
  },
  {
   "cell_type": "code",
   "execution_count": 15,
   "metadata": {},
   "outputs": [],
   "source": [
    "# def train_and_predict_two_halves(df, variables, target, model=LogisticRegression(), scaler=StandardScaler(), augment_distribution=False, default_proba=[1,1,1]):\n",
    "#     if lognormal_variables is not None:\n",
    "#         df = df.copy()\n",
    "        \n",
    "#         for var in lognormal_variables:\n",
    "#             if var == 'CONTRACT_CREDIT_LOSS':\n",
    "#                 df[var] = np.log1p(np.abs(df[var]))*np.sign(df[var])\n",
    "#             else:\n",
    "#                 df[var] = np.log1p(df[var])\n",
    "#     if augment_distribution:\n",
    "#         df_filtered_2016 = default_percentage_generator_2016(df, default_proba[0]/100, target)\n",
    "#         df_filtered_2017 = default_percentage_generator_2017(df, default_proba[1]/100, target)\n",
    "#         df_filtered_2018 = default_percentage_generator_2018(df, default_proba[2]/100, target)\n",
    "#         # df_filtered = pd.concat([df_filtered_2016, df_filtered_2017, df_filtered_2018])\n",
    "#         # df_filtered = df_filtered_2018\n",
    "#         # print(df_filtered[target].mean())\n",
    "#     else:\n",
    "#         df_filtered = df[df['CONTRACT_DATE_OF_LOAN_AGREEMENT_DATETIME'] < '2016-01-01']\n",
    "\n",
    "    \n",
    "#     X_scaled = scaler.fit_transform(df[variables])\n",
    "#     y = df[target]\n",
    "\n",
    "#     X_filtered_2016 = scaler.transform(df_filtered_2016[variables])\n",
    "#     y_filtered_2016 = df_filtered_2016[target]\n",
    "#     model.fit(X_filtered_2016, y_filtered_2016)\n",
    "#     print(f\"Prediction mean: {model.predict_proba(X_filtered_2016)[:, 1].mean()}\")\n",
    "#     proba_2016 = model.predict_proba(X_scaled)[:, 1]\n",
    "#     mask_2016 = df['CONTRACT_DATE_OF_LOAN_AGREEMENT_DATETIME'] < '2016-01-01'\n",
    "#     print(mask_2016.sum())\n",
    "\n",
    "\n",
    "#     X_filtered_2017 = scaler.transform(df_filtered_2017[variables])\n",
    "#     y_filtered_2017 = df_filtered_2017[target]\n",
    "#     x_2017_train, x_2017_test, y_2017_train, y_2017_test = train_test_split(X_filtered_2017, y_filtered_2017, test_size=0.5, random_state=42)\n",
    "#     model.fit(x_2017_train, y_2017_train)\n",
    "#     print(f\"Prediction mean: {model.predict_proba(x_2017_test)[:, 1].mean()}\")\n",
    "#     print(f\"TRain pred mean: {model.predict_proba(x_2017_train)[:, 1].mean()}\")\n",
    "#     proba_2017 = model.predict_proba(X_scaled)[:, 1]\n",
    "#     mask_2017 = (df['CONTRACT_DATE_OF_LOAN_AGREEMENT_DATETIME'] > '2016-01-01') & (df['CONTRACT_DATE_OF_LOAN_AGREEMENT_DATETIME'] < '2017-01-01')\n",
    "#     print(mask_2017.sum())\n",
    "#     print(model.predict_proba(X_scaled[mask_2017])[:,1].mean())\n",
    "\n",
    "#     X_filtered_2018 = scaler.transform(df_filtered_2018[variables])\n",
    "#     y_filtered_2018 = df_filtered_2018[target]\n",
    "#     model.fit(X_filtered_2018, y_filtered_2018)\n",
    "#     print(f\"Prediction mean: {model.predict_proba(X_filtered_2018)[:, 1].mean()}\")\n",
    "#     proba_2018 = model.predict_proba(X_scaled)[:, 1]\n",
    "#     mask_2018 = df['CONTRACT_DATE_OF_LOAN_AGREEMENT_DATETIME'] > '2017-01-01'\n",
    "\n",
    "#     proba = np.zeros(len(df))\n",
    "#     proba[mask_2016] = proba_2016[mask_2016]\n",
    "#     proba[mask_2017] = proba_2017[mask_2017]\n",
    "#     proba[mask_2018] = proba_2018[mask_2018]\n",
    "#     print(proba_2016[mask_2016].mean(), proba_2017[mask_2017].mean(), proba_2018[mask_2018].mean())\n",
    "#     print(proba_2016.mean(), proba_2017.mean(), proba_2018.mean())\n",
    "#     print((proba_2016.mean()+ proba_2017.mean()+ proba_2018.mean())/3)\n",
    "#     print(proba.mean())\n",
    "#     return proba\n",
    "\n",
    "def train_and_predict_two_halves(df, variables, target, model=LogisticRegression(), scaler=StandardScaler(), augment_distribution=False,default_proba=[2,2,2]):\n",
    "    if lognormal_variables is not None:\n",
    "        df = df.copy()\n",
    "        \n",
    "        for var in lognormal_variables:\n",
    "            if var == 'CONTRACT_CREDIT_LOSS':\n",
    "                df[var] = np.log1p(np.abs(df[var]))*np.sign(df[var])\n",
    "            else:\n",
    "                df[var] = np.log1p(df[var])\n",
    "    if augment_distribution:\n",
    "        df_filtered = default_percentage_generator_2016(df, 1.48/100, target)\n",
    "    else:\n",
    "        df_filtered = df[df['CONTRACT_DATE_OF_LOAN_AGREEMENT_DATETIME'] < '2016-01-01']\n",
    "\n",
    "    \n",
    "    X_scaled = scaler.fit_transform(df[variables])\n",
    "    X_filtered = scaler.transform(df_filtered[variables])\n",
    "\n",
    "    y = df[target]\n",
    "    y_filtered = df_filtered[target]\n",
    "    model.fit(X_filtered, y_filtered)\n",
    "    proba = model.predict_proba(X_scaled)[:, 1]\n",
    "\n",
    "    return proba"
   ]
  },
  {
   "cell_type": "code",
   "execution_count": 16,
   "metadata": {},
   "outputs": [],
   "source": [
    "def significant_features(df, variables, target, model1=LogisticRegression(), scaler=StandardScaler()):\n",
    "    if lognormal_variables is not None:\n",
    "        df = df.copy()\n",
    "        \n",
    "        for var in lognormal_variables:\n",
    "            if var == 'CONTRACT_CREDIT_LOSS':\n",
    "                df[var] = np.log1p(np.abs(df[var]))*np.sign(df[var])\n",
    "            else:\n",
    "                df[var] = np.log1p(df[var])\n",
    "\n",
    "    X_scaled = scaler.fit_transform(df[variables])\n",
    "\n",
    "    X = sm.add_constant(pd.DataFrame(X_scaled, columns=variables))\n",
    "    y = df[target]\n",
    "    model = sm.Logit(y, X).fit()\n",
    "    print(model.summary())\n",
    "    p_values = model.pvalues\n",
    "    non_significant_vars = p_values[p_values > 0.05].index.tolist()\n",
    "\n",
    "    return model, non_significant_vars"
   ]
  },
  {
   "cell_type": "code",
   "execution_count": 147,
   "metadata": {},
   "outputs": [],
   "source": [
    "def combined_probability(s):\n",
    "    if len(s) == 2:\n",
    "        p_a, p_b = s.values\n",
    "        return p_a + p_b - p_a * p_b #- (-3.2357827075016176e-05)\n",
    "    else:\n",
    "        return 1 - np.prod(1 - s.values)\n",
    "\n",
    "def create_submission_file(df_preds, target, example, filename='submission.csv', testing=False):\n",
    "    # Filter the data to only include BORROWER_IDs that are in the submission example\n",
    "    filtered_training_data = df_preds[df_preds['BORROWER_ID'].isin(example['BORROWER_ID'])]\n",
    "\n",
    "    # Print warning if the row count is off\n",
    "    if not testing and len(filtered_training_data) != 1564601:\n",
    "        print('WARNING: The filtered data does not have the correct number of rows. Make sure you are not using the training data for submission.')\n",
    "        # raise ValueError('WARNING: The submission file does not have the correct number of rows. Make sure you are not using the training data for submission.')\n",
    "    # Group by BORROWER_ID and calculate the combined probability\n",
    "\n",
    "    #######################x########################\n",
    "    #CUTTING TAILS DID NOT SEEM TO WORK\n",
    "    #######################x########################\n",
    "    # filtered_training_data = cut_exponential_tails(filtered_training_data, target)\n",
    "    grouped_data = filtered_training_data.groupby('BORROWER_ID')[target].apply(combined_probability).reset_index()\n",
    "\n",
    "    # Create the submission DataFrame\n",
    "    df_submission = pd.DataFrame()\n",
    "    df_submission['BORROWER_ID'] = grouped_data['BORROWER_ID']\n",
    "    df_submission['PRED'] = grouped_data[target]\n",
    "    print('Before centering:')\n",
    "    print(df_submission['PRED'].max(), df_submission['PRED'].min(), df_submission['PRED'].mean())\n",
    "\n",
    "    print('Centering probabilities...')\n",
    "    # Center the probabilities around 1.48%\n",
    "    desired_mean = 0.0148  # 1.48% as a decimal\n",
    "    # while (df_submission['PRED'].max() > 1 or df_submission['PRED'].min() < 0 or abs(df_submission['PRED'].mean() -0.0148) > 0.0005):\n",
    "    #     # print(df_submission['PRED'].max(), df_submission['PRED'].min(), df_submission['PRED'].mean())\n",
    "    #     df_submission['PRED'] = df_submission['PRED'].clip(lower=0, upper=1)\n",
    "    #     # print(df_submission['PRED'].max(), df_submission['PRED'].min(), df_submission['PRED'].mean())\n",
    "\n",
    "    #     current_mean = df_submission['PRED'].mean()\n",
    "    #     adjustment_factor = desired_mean  - current_mean\n",
    "    #     df_submission['PRED'] += adjustment_factor\n",
    "    initial_guess = 2\n",
    "    probas_unscaled = df_submission['PRED'].values\n",
    "    new_proba = probas_unscaled.copy()\n",
    "    while abs(new_proba.mean() - desired_mean) > 0.00001:\n",
    "        \n",
    "        new_proba = calculate_probabilities_vec(probas_unscaled, initial_guess)\n",
    "        error = new_proba.mean() - desired_mean\n",
    "        if error > 0:\n",
    "            initial_guess += 0.001\n",
    "        else:\n",
    "            initial_guess -= 0.001\n",
    "        print(error, initial_guess)\n",
    "    df_submission['PRED'] = new_proba\n",
    "        \n",
    "        \n",
    "    \n",
    "    print(df_submission['PRED'].max(), df_submission['PRED'].min(), df_submission['PRED'].mean())\n",
    "    # Save the submission file\n",
    "    if  not testing and filename is not None:\n",
    "        df_submission.to_csv(filename, index=False)\n",
    "    print(f'Saved file: {filename}')\n",
    "    # if abs(df_submission['PRED'].mean() -0.0148) > 0.0005:\n",
    "    #    raise ValueError('WARNING: mean is bad')\n",
    "        \n",
    "    # Print warning if the row count is off\n",
    "    if not testing and len(df_submission) != 1117674:\n",
    "        print('WARNING: The submission file does not have the correct number of rows. Make sure you are not using the training data for submission.')\n",
    "        # raise ValueError('WARNING: The submission file does not have the correct number of rows. Make sure you are not using the training data for submission.')\n",
    "        \n",
    "    return df_submission\n"
   ]
  },
  {
   "cell_type": "code",
   "execution_count": 18,
   "metadata": {},
   "outputs": [],
   "source": [
    "def test_model_2y_1y(df, variables, target, model1=LogisticRegression(), model2=LogisticRegression()):\n",
    "    df = df.copy()\n",
    "    start_date = pd.Timestamp('2015-01-01')\n",
    "    end_date = pd.Timestamp('2017-01-01')\n",
    "\n",
    "    # Mask for rows with CONTRACT_DATE_OF_LOAN_AGREEMENT_JULIAN between start_date and end_date\n",
    "    mask_date_range = (df['CONTRACT_DATE_OF_LOAN_AGREEMENT_JULIAN'] >= start_date) & (df['CONTRACT_DATE_OF_LOAN_AGREEMENT_JULIAN'] <= end_date)\n",
    "\n",
    "    df = df[mask_date_range]\n",
    "\n",
    "    probs = train_and_predict_two_halves(\n",
    "        df, \n",
    "        variables, \n",
    "        target, \n",
    "        model1=model1,\n",
    "        model2=model2,\n",
    "    )\n",
    "    df['2Y-1Y-PROBS'] = probs\n",
    "    \n",
    "    test_data = pd.read_csv('./data/1y-test.csv')\n",
    "\n",
    "\n",
    "    df_submission = create_submission_file(df, '2Y-1Y-PROBS', test_data, filename=None, testing=True)\n",
    "\n",
    "    merged_df = pd.merge(test_data, df_submission, on='BORROWER_ID')\n",
    "    true_labels = merged_df['TARGET_EVENT_BINARY_1Y']\n",
    "    predicted_probs = merged_df['PRED']\n",
    "    logloss = log_loss(true_labels, predicted_probs)\n",
    "\n",
    "    print(f'Log loss: {logloss}')\n",
    "        \n",
    "    return logloss"
   ]
  },
  {
   "cell_type": "code",
   "execution_count": 19,
   "metadata": {},
   "outputs": [
    {
     "name": "stdout",
     "output_type": "stream",
     "text": [
      "Warning: Maximum number of iterations has been exceeded.\n",
      "         Current function value: 0.015313\n",
      "         Iterations: 35\n",
      "                             Logit Regression Results                             \n",
      "==================================================================================\n",
      "Dep. Variable:     TARGET_EVENT_BINARY_2Y   No. Observations:              1601663\n",
      "Model:                              Logit   Df Residuals:                  1601613\n",
      "Method:                               MLE   Df Model:                           49\n",
      "Date:                    Tue, 07 Nov 2023   Pseudo R-squ.:                  0.5932\n",
      "Time:                            12:32:57   Log-Likelihood:                -24526.\n",
      "converged:                          False   LL-Null:                       -60284.\n",
      "Covariance Type:                nonrobust   LLR p-value:                     0.000\n",
      "=======================================================================================================\n",
      "                                          coef    std err          z      P>|z|      [0.025      0.975]\n",
      "-------------------------------------------------------------------------------------------------------\n",
      "const                                 -10.4383   1765.722     -0.006      0.995   -3471.189    3450.313\n",
      "CONTRACT_CREDIT_INTERMEDIARY           -0.0077      0.004     -1.790      0.074      -0.016       0.001\n",
      "CONTRACT_CREDIT_LOSS                    4.8265      0.054     90.189      0.000       4.722       4.931\n",
      "CONTRACT_CURRENCY                      -0.0105      0.003     -3.747      0.000      -0.016      -0.005\n",
      "CONTRACT_DEPT_SERVICE_TO_INCOME        -0.1215      0.027     -4.460      0.000      -0.175      -0.068\n",
      "CONTRACT_INCOME                         0.2783      0.027     10.273      0.000       0.225       0.331\n",
      "CONTRACT_INSTALMENT_AMOUNT              0.0681      0.013      5.379      0.000       0.043       0.093\n",
      "CONTRACT_INSTALMENT_AMOUNT_2           -0.1385      0.022     -6.351      0.000      -0.181      -0.096\n",
      "CONTRACT_INTEREST_PERIOD               -0.1566      0.030     -5.233      0.000      -0.215      -0.098\n",
      "CONTRACT_INTEREST_RATE                  0.2697      0.018     14.993      0.000       0.234       0.305\n",
      "CONTRACT_LGD                           -0.5657      0.031    -18.082      0.000      -0.627      -0.504\n",
      "CONTRACT_LOAN_AMOUNT                   -0.0387      0.042     -0.924      0.356      -0.121       0.043\n",
      "CONTRACT_LOAN_CONTRACT_TYPE             0.9323      0.058     16.128      0.000       0.819       1.046\n",
      "CONTRACT_LOAN_TO_VALUE_RATIO           -0.6318      0.041    -15.484      0.000      -0.712      -0.552\n",
      "CONTRACT_MARKET_VALUE                   0.3842      0.088      4.370      0.000       0.212       0.556\n",
      "CONTRACT_MORTGAGE_LENDING_VALUE        -1.2334      0.083    -14.847      0.000      -1.396      -1.071\n",
      "CONTRACT_MORTGAGE_TYPE                  0.1196      0.029      4.103      0.000       0.062       0.177\n",
      "CONTRACT_RISK_WEIGHTED_ASSETS           0.0321      0.005      6.439      0.000       0.022       0.042\n",
      "CONTRACT_TYPE_OF_INTEREST_REPAYMENT    -0.6069      0.013    -46.059      0.000      -0.633      -0.581\n",
      "BORROWER_BIRTH_YEAR                    -0.2208      0.040     -5.558      0.000      -0.299      -0.143\n",
      "BORROWER_CITIZENSHIP                    0.0242      0.009      2.809      0.005       0.007       0.041\n",
      "BORROWER_COUNTY                        -0.0063      0.013     -0.483      0.629      -0.032       0.019\n",
      "BORROWER_TYPE_OF_SETTLEMENT             0.0369      0.015      2.400      0.016       0.007       0.067\n",
      "LOAN_TYPE_1f951336                      4.3954    327.525      0.013      0.989    -637.541     646.332\n",
      "LOAN_TYPE_2f88e16c                      2.0014    204.552      0.010      0.992    -398.913     402.915\n",
      "LOAN_TYPE_47693941                     -0.1345    2.6e+05  -5.18e-07      1.000   -5.09e+05    5.09e+05\n",
      "LOAN_TYPE_5a06241e                      1.9945    125.035      0.016      0.987    -243.069     247.058\n",
      "LOAN_TYPE_694cbaee                      0.8261     51.271      0.016      0.987     -99.664     101.316\n",
      "LOAN_TYPE_69f70539                      2.9096    221.642      0.013      0.990    -431.501     437.320\n",
      "LOAN_TYPE_7e2065f4                      3.4441    250.475      0.014      0.989    -487.478     494.366\n",
      "LOAN_TYPE_83910425                      1.1376     72.047      0.016      0.987    -140.071     142.347\n",
      "LOAN_TYPE_8fe006f1                      0.0031    620.782   5.01e-06      1.000   -1216.707    1216.713\n",
      "LOAN_TYPE_955ae3ef                      2.7466    203.513      0.013      0.989    -396.131     401.625\n",
      "LOAN_TYPE_95c4f8fb                      0.2949     20.737      0.014      0.989     -40.349      40.938\n",
      "LOAN_TYPE_b503a0de                      6.9007    530.526      0.013      0.990   -1032.910    1046.712\n",
      "LOAN_TYPE_cde77491                      0.0071     85.266   8.33e-05      1.000    -167.111     167.125\n",
      "LOAN_TYPE_cf07c2dd                      2.2825    163.561      0.014      0.989    -318.292     322.857\n",
      "LOAN_TYPE_d3aaffde                      3.8898    254.193      0.015      0.988    -494.319     502.098\n",
      "LOAN_TYPE_eab72d7a                      0.5893     41.686      0.014      0.989     -81.114      82.293\n",
      "LOAN_TYPE_f792971b                      0.0300     20.746      0.001      0.999     -40.632      40.692\n",
      "FREQ_TYPE_3265c5b7                     -0.3713      0.131     -2.826      0.005      -0.629      -0.114\n",
      "FREQ_TYPE_479a2e13                     -1.0106      0.339     -2.984      0.003      -1.674      -0.347\n",
      "FREQ_TYPE_87db11f5                     -0.8989      0.215     -4.185      0.000      -1.320      -0.478\n",
      "FREQ_TYPE_89efd382                     -0.0353      0.021     -1.716      0.086      -0.076       0.005\n",
      "FREQ_TYPE_ad534644                     -0.1071      0.040     -2.646      0.008      -0.186      -0.028\n",
      "FREQ_TYPE_bd092d5a                     -0.0007      0.004     -0.175      0.861      -0.008       0.007\n",
      "BORROWER_LOAN_COUNT                    -0.1052      0.020     -5.214      0.000      -0.145      -0.066\n",
      "TOTAL_LOAN_AMOUNT                      -0.5003      0.042    -11.986      0.000      -0.582      -0.418\n",
      "TOTAL_INSTALLMENT_AMOUNT                0.1315      0.017      7.519      0.000       0.097       0.166\n",
      "LOAN_BORROWER_COUNT                     0.0611      0.023      2.697      0.007       0.017       0.106\n",
      "=======================================================================================================\n",
      "\n",
      "Possibly complete quasi-separation: A fraction 0.50 of observations can be\n",
      "perfectly predicted. This might indicate that there is complete\n",
      "quasi-separation. In this case some parameters will not be identified.\n"
     ]
    }
   ],
   "source": [
    "model, non_significant_vars = significant_features(training_data, X_columns, y_column,LogisticRegression())"
   ]
  },
  {
   "cell_type": "code",
   "execution_count": 20,
   "metadata": {},
   "outputs": [
    {
     "data": {
      "text/plain": [
       "['const',\n",
       " 'CONTRACT_CREDIT_INTERMEDIARY',\n",
       " 'CONTRACT_LOAN_AMOUNT',\n",
       " 'BORROWER_COUNTY',\n",
       " 'LOAN_TYPE_1f951336',\n",
       " 'LOAN_TYPE_2f88e16c',\n",
       " 'LOAN_TYPE_47693941',\n",
       " 'LOAN_TYPE_5a06241e',\n",
       " 'LOAN_TYPE_694cbaee',\n",
       " 'LOAN_TYPE_69f70539',\n",
       " 'LOAN_TYPE_7e2065f4',\n",
       " 'LOAN_TYPE_83910425',\n",
       " 'LOAN_TYPE_8fe006f1',\n",
       " 'LOAN_TYPE_955ae3ef',\n",
       " 'LOAN_TYPE_95c4f8fb',\n",
       " 'LOAN_TYPE_b503a0de',\n",
       " 'LOAN_TYPE_cde77491',\n",
       " 'LOAN_TYPE_cf07c2dd',\n",
       " 'LOAN_TYPE_d3aaffde',\n",
       " 'LOAN_TYPE_eab72d7a',\n",
       " 'LOAN_TYPE_f792971b',\n",
       " 'FREQ_TYPE_89efd382',\n",
       " 'FREQ_TYPE_bd092d5a']"
      ]
     },
     "execution_count": 20,
     "metadata": {},
     "output_type": "execute_result"
    }
   ],
   "source": [
    "non_significant_vars"
   ]
  },
  {
   "cell_type": "code",
   "execution_count": 21,
   "metadata": {},
   "outputs": [],
   "source": [
    "# X_columns.remove('CONTRACT_CREDIT_INTERMEDIARY')\n",
    "# X_columns.remove('BORROWER_COUNTY')\n",
    "# Assuming you have a pandas DataFrame named training_data\n",
    "# unique_training_data = training_data.drop_duplicates(subset='CONTRACT_ID', keep='first')\n"
   ]
  },
  {
   "cell_type": "code",
   "execution_count": 22,
   "metadata": {},
   "outputs": [
    {
     "name": "stdout",
     "output_type": "stream",
     "text": [
      "Mean in year 0.011345816067598232\n",
      "5206\n",
      "1750.5931790499392\n",
      "0.015153056492278981\n"
     ]
    }
   ],
   "source": [
    "# 0.006785876080349979\n",
    "# Before centering:\n",
    "# 0.9978858840423693 8.548717289613705e-15 0.006063585227926563\n",
    "# Centering probabilities...\n",
    "# 1.0 0.008736424229876956 0.01479999999999999\n",
    "predicted_probs = 'LOGISTIC_REG'\n",
    "probs = train_and_predict_two_halves(\n",
    "    training_data, \n",
    "    X_columns, \n",
    "    'TARGET_EVENT_BINARY',\n",
    "    model=LogisticRegression(max_iter=400, random_state=42),\n",
    "    augment_distribution=True,\n",
    "    default_proba=[1.9, 2, 2.1]\n",
    ")\n",
    "training_data[predicted_probs] = probs\n",
    "print(probs.mean())\n"
   ]
  },
  {
   "cell_type": "code",
   "execution_count": 79,
   "metadata": {},
   "outputs": [],
   "source": [
    "contracts_2016 = training_data[training_data['CONTRACT_DATE_OF_LOAN_AGREEMENT_DATETIME'] < '2016-01-01']"
   ]
  },
  {
   "cell_type": "code",
   "execution_count": 80,
   "metadata": {},
   "outputs": [
    {
     "data": {
      "text/plain": [
       "0.011345816067598232"
      ]
     },
     "execution_count": 80,
     "metadata": {},
     "output_type": "execute_result"
    }
   ],
   "source": [
    "training_data[training_data['CONTRACT_DATE_OF_LOAN_AGREEMENT_DATETIME'] < '2016-01-01']['TARGET_EVENT_BINARY'].mean()"
   ]
  },
  {
   "cell_type": "code",
   "execution_count": 82,
   "metadata": {},
   "outputs": [],
   "source": [
    "defaults_2016 = contracts_2016[contracts_2016['TARGET_EVENT_BINARY'] == 1]\n",
    "\n",
    "defaults_2015_2017 = defaults_2016[defaults_2016['TARGET_EVENT_DAY_DATETIME'] < '2017-01-01']\n",
    "defaults_2016_2018 = defaults_2016[(defaults_2016['TARGET_EVENT_DAY_DATETIME'] < '2018-01-01') & (defaults_2016['TARGET_EVENT_DAY_DATETIME'] > '2016-01-01')]"
   ]
  },
  {
   "cell_type": "code",
   "execution_count": 86,
   "metadata": {},
   "outputs": [
    {
     "name": "stdout",
     "output_type": "stream",
     "text": [
      "Defaulted in their 1st and 2nd year: 0.006340839129746867\n",
      "Defaulted in their 2nd and 3rd year: 0.0106268137784071\n"
     ]
    }
   ],
   "source": [
    "print(f\"Defaulted in their 1st and 2nd year: {len(defaults_2015_2017)/len(contracts_2016)}\")\n",
    "print(f\"Defaulted in their 2nd and 3rd year: {len(defaults_2016_2018)/len(contracts_2016)}\")"
   ]
  },
  {
   "cell_type": "code",
   "execution_count": 140,
   "metadata": {},
   "outputs": [
    {
     "name": "stdout",
     "output_type": "stream",
     "text": [
      "Before scaling:\n",
      "0.0075639412541344125 0.010651800730743533 0.016341203820312955\n",
      "0.015153056492278981\n",
      "Adter scaling:\n",
      "0.0052189766076614335 0.010416223515931773 0.0174338254131287\n",
      "0.011249185295868656\n"
     ]
    }
   ],
   "source": [
    "# [5.0, 2.04, 1.66]\n",
    "# Before scaling:\n",
    "# 0.0075639412541344125 0.010651800730743533 0.016341203820312955\n",
    "# 0.015153056492278981\n",
    "# Adter scaling:\n",
    "# 0.00357103842823219 0.010493536409671489 0.018545090220554634\n",
    "# 0.011163393322223566 -> 0.014718846693752624\n",
    "default_proba=[3.2, 2.06, 1.82]\n",
    "new_proba = np.zeros(len(training_data))\n",
    "mask_2016 = (training_data['CONTRACT_DATE_OF_LOAN_AGREEMENT_DATETIME'] < '2016-01-01') & (training_data['TARGET_EVENT_BINARY'] != 1)\n",
    "mask_2017 = (training_data['CONTRACT_DATE_OF_LOAN_AGREEMENT_DATETIME'] > '2016-01-01') & (training_data['CONTRACT_DATE_OF_LOAN_AGREEMENT_DATETIME'] < '2017-01-01')& (training_data['TARGET_EVENT_BINARY'] != 1)\n",
    "mask_2018 = (training_data['CONTRACT_DATE_OF_LOAN_AGREEMENT_DATETIME'] > '2017-01-01') & (training_data['TARGET_EVENT_BINARY'] != 1)\n",
    "\n",
    "proba_2016 = probs\n",
    "proba_2017 = probs\n",
    "proba_2018 = probs\n",
    "print(\"Before scaling:\")\n",
    "print(proba_2016[mask_2016].mean(), proba_2017[mask_2017].mean(), proba_2018[mask_2018].mean())\n",
    "print(probs.mean())\n",
    "\n",
    "proba_2016 = calculate_probabilities_vec(proba_2016, default_proba[0])\n",
    "proba_2017 = calculate_probabilities_vec(proba_2017, default_proba[1])\n",
    "proba_2018 = calculate_probabilities_vec(proba_2018, default_proba[2])\n",
    "print('Adter scaling:')\n",
    "print(proba_2016[mask_2016].mean(), proba_2017[mask_2017].mean(), proba_2018[mask_2018].mean())\n",
    "new_proba[mask_2016] = proba_2016[mask_2016]\n",
    "new_proba[mask_2017] = proba_2017[mask_2017]\n",
    "new_proba[mask_2018] = proba_2018[mask_2018]\n",
    "print(new_proba.mean())"
   ]
  },
  {
   "cell_type": "code",
   "execution_count": 141,
   "metadata": {},
   "outputs": [],
   "source": [
    "training_data['YEAR_SCALED_PROBA'] = new_proba"
   ]
  },
  {
   "cell_type": "code",
   "execution_count": 148,
   "metadata": {},
   "outputs": [
    {
     "name": "stdout",
     "output_type": "stream",
     "text": [
      "Before centering:\n",
      "0.9999863336876658 2.0761170560490427e-14 0.01483790036563709\n",
      "Centering probabilities...\n",
      "3.790036563708875e-05 2.001\n",
      "3.271454136056541e-05 2.002\n",
      "2.753259915394546e-05 2.0029999999999997\n",
      "2.2354534343660068e-05 2.0039999999999996\n",
      "1.7180342264146164e-05 2.0049999999999994\n",
      "1.2010018257773564e-05 2.0059999999999993\n",
      "6.843557674864054e-06 2.0069999999999992\n",
      "0.9999858680940075 2.0650148258027912e-14 0.014806843557674865\n",
      "Saved file: ./predictions/logistic-regression-one-model.csv\n"
     ]
    }
   ],
   "source": [
    "submission = create_submission_file(training_data, 'YEAR_SCALED_PROBA', data_submission_example, filename='./predictions/logistic-regression-one-model.csv')"
   ]
  },
  {
   "cell_type": "code",
   "execution_count": 119,
   "metadata": {},
   "outputs": [
    {
     "data": {
      "image/png": "[encoded data removed]",
      "text/plain": [
       "<Figure size 640x480 with 1 Axes>"
      ]
     },
     "metadata": {},
     "output_type": "display_data"
    }
   ],
   "source": [
    "sns.histplot(submission, bins=10, kde=True, label='Submission', alpha=0.5,color='red')\n",
    "sns.histplot(training_data['YEAR_SCALED_PROBA'], bins=10, kde=True, label='Predicted Probabilities', alpha=0.5, color='blue')\n",
    "plt.yscale('log')\n",
    "plt.legend()\n",
    "plt.title('Overlayed Histogram of Submission and Predicted Probabilities')\n",
    "plt.show()"
   ]
  },
  {
   "cell_type": "code",
   "execution_count": 211,
   "metadata": {},
   "outputs": [],
   "source": []
  },
  {
   "cell_type": "code",
   "execution_count": 214,
   "metadata": {},
   "outputs": [
    {
     "name": "stdout",
     "output_type": "stream",
     "text": [
      "0.014650493996911831 0.9999634858556221 1.84297022087776e-14 0.0796354768511789\n"
     ]
    }
   ],
   "source": [
    "magic_number = 2.1\n",
    "experiment_probs = calculate_probabilities(training_data, 'LOGISTIC_REG', magic_number)\n",
    "print(experiment_probs.mean(), experiment_probs.max(), experiment_probs.min(), experiment_probs.std())\n"
   ]
  },
  {
   "cell_type": "code",
   "execution_count": 215,
   "metadata": {},
   "outputs": [
    {
     "name": "stdout",
     "output_type": "stream",
     "text": [
      "Before centering:\n",
      "0.9999634858556221 3.164135620181696e-14 0.014850026590304564\n",
      "Centering probabilities...\n",
      "0.9999634858556221 3.164135620181696e-14 0.014850026590304564\n",
      "Saved file: ./predictions/prediction-with-time-param-0-585.csv\n"
     ]
    }
   ],
   "source": [
    "training_data['EXPERIMENT_PROBS'] = experiment_probs\n",
    "submission_exp = create_submission_file(training_data, 'EXPERIMENT_PROBS', data_submission_example, filename='./predictions/prediction-with-time-param-0-585.csv')"
   ]
  },
  {
   "cell_type": "code",
   "execution_count": 216,
   "metadata": {},
   "outputs": [
    {
     "data": {
      "image/png": "[encoded data removed]",
      "text/plain": [
       "<Figure size 640x480 with 1 Axes>"
      ]
     },
     "metadata": {},
     "output_type": "display_data"
    }
   ],
   "source": [
    "# print(experiment_probs.mean(), experiment_probs.max(), experiment_probs.min(), experiment_probs.std())\n",
    "sns.kdeplot(submission, label='Submission OG', lw=3, alpha=1)\n",
    "sns.kdeplot(training_data['LOGISTIC_REG'], label='PredictionOG', lw=3, alpha=1)\n",
    "sns.kdeplot(experiment_probs, label='Fine tuned solution', lw=3, alpha=1)\n",
    "sns.kdeplot(submission_exp, label='Fine tuned solution per borrower', lw=3, alpha=1)\n",
    "\n",
    "plt.yscale('log')\n",
    "plt.legend()\n",
    "plt.title('Overlayed Histogram of Submission and Predicted Probabilities')\n",
    "plt.show()"
   ]
  },
  {
   "cell_type": "code",
   "execution_count": 229,
   "metadata": {},
   "outputs": [],
   "source": [
    "from sklearn.model_selection import train_test_split, cross_val_score\n",
    "from sklearn.linear_model import LogisticRegression\n",
    "from sklearn.preprocessing import StandardScaler\n",
    "from sklearn.metrics import log_loss\n",
    "import numpy as np\n",
    "\n",
    "# Other necessary imports, like pandas, if you're using a DataFrame\n",
    "\n",
    "def train_and_evaluate(df, variables, target, model=LogisticRegression(), scaler=StandardScaler(), cv_folds=5, augment_distribution=False):\n",
    "    # Your lognormal_variables transformation code remains the same\n",
    "    if lognormal_variables is not None:\n",
    "        df = df.copy()\n",
    "        for var in lognormal_variables:\n",
    "            if var == 'CONTRACT_CREDIT_LOSS':\n",
    "                df[var] = np.log1p(np.abs(df[var]))*np.sign(df[var])\n",
    "            else:\n",
    "                df[var] = np.log1p(df[var])\n",
    "\n",
    "    # Split the data before the given date for training \n",
    "    if augment_distribution:\n",
    "        df_filtered = default_percentage_generator(df, 1.48/100, target)\n",
    "    else:\n",
    "        df_filtered = df[df['CONTRACT_DATE_OF_LOAN_AGREEMENT_DATETIME'] < '2016-01-01']\n",
    "    X_filtered = df_filtered[variables]\n",
    "    y_filtered = df_filtered[target]\n",
    "    \n",
    "    # Scale the filtered features\n",
    "    X_filtered_scaled = scaler.fit_transform(X_filtered)\n",
    "    \n",
    "    # Perform cross-validation and fit the model\n",
    "    cv_scores = cross_val_score(model, X_filtered_scaled, y_filtered, cv=cv_folds, scoring='neg_log_loss')\n",
    "    \n",
    "    print(f\"CV Log Loss Scores: {-cv_scores}\")\n",
    "    print(f\"Mean CV Log Loss: {-np.mean(cv_scores)}\")\n",
    "    \n",
    "    # Now fit the model to the entire dataset\n",
    "    model.fit(X_filtered_scaled, y_filtered)\n",
    "    \n",
    "    # Scale the entire dataset to predict probabilities for all records\n",
    "    X_scaled = scaler.transform(df[variables])\n",
    "    \n",
    "    # Predict probabilities using the trained model\n",
    "    proba = model.predict_proba(X_scaled)[:, 1]\n",
    "\n",
    "    # Calculate log loss on the full dataset\n",
    "    full_log_loss = log_loss(df[target], proba)\n",
    "\n",
    "    print(f\"Full Dataset Log Loss: {full_log_loss}\")\n",
    "\n",
    "    return proba, cv_scores, full_log_loss\n",
    "\n",
    "# You might call the function like this\n",
    "# probabilities, cv_scores, full_log_loss = train_and_evaluate(df, variables, target)\n",
    "\n"
   ]
  },
  {
   "cell_type": "code",
   "execution_count": 230,
   "metadata": {},
   "outputs": [
    {
     "name": "stdout",
     "output_type": "stream",
     "text": [
      "0.011345816067598232\n",
      "5206\n",
      "1750.5931790499392\n",
      "CV Log Loss Scores: [0.01608614 0.0167136  0.01626121 0.01525046 0.01486667]\n",
      "Mean CV Log Loss: 0.015835614637518213\n",
      "Full Dataset Log Loss: 0.013277898005769687\n",
      "0.011253619\n"
     ]
    }
   ],
   "source": [
    "# RANDOM FORREST\n",
    "# CV Log Loss Scores: [0.02719089 0.02764513 0.02753959 0.02759813 0.0271936 ]\n",
    "# Mean CV Log Loss: 0.027433468253452647\n",
    "# Full Dataset Log Loss: 0.021537244543421808\n",
    "predicted_probs = 'XGBOOST'\n",
    "probs, _, _ = train_and_evaluate(\n",
    "    training_data, \n",
    "    X_columns, \n",
    "    'TARGET_EVENT_BINARY',\n",
    "    model=xgb.XGBClassifier(max_depth=3, random_state=42, use_label_encoder=False, eval_metric='logloss'),\n",
    "    augment_distribution=True\n",
    ")\n",
    "training_data[predicted_probs] = probs\n",
    "print(probs.mean())\n"
   ]
  },
  {
   "cell_type": "code",
   "execution_count": 227,
   "metadata": {},
   "outputs": [
    {
     "name": "stdout",
     "output_type": "stream",
     "text": [
      "0.013342346 0.99799156 2.9802322e-07 0.092173606\n"
     ]
    }
   ],
   "source": [
    "magic_number = 2\n",
    "experiment_probs = calculate_probabilities(training_data, 'XGBOOST', magic_number)\n",
    "print(experiment_probs.mean(), experiment_probs.max(), experiment_probs.min(), experiment_probs.std())\n"
   ]
  },
  {
   "cell_type": "code",
   "execution_count": 228,
   "metadata": {},
   "outputs": [
    {
     "name": "stdout",
     "output_type": "stream",
     "text": [
      "Before centering:\n",
      "0.9999999999899434 2.980232238769531e-07 0.010291124245856357\n",
      "Centering probabilities...\n",
      "1.0 0.004509489563093274 0.014800000000000002\n",
      "Saved file: ./predictions/xgb-prediction-with-time-param-0-585.csv\n"
     ]
    }
   ],
   "source": [
    "training_data['EXPERIMENT_PROBS_XGB'] = experiment_probs\n",
    "submission_exp = create_submission_file(training_data, 'EXPERIMENT_PROBS_XGB', data_submission_example, filename='./predictions/xgb-prediction-with-time-param-0-585.csv')"
   ]
  },
  {
   "cell_type": "code",
   "execution_count": 127,
   "metadata": {},
   "outputs": [
    {
     "data": {
      "image/png": "[encoded data removed]",
      "text/plain": [
       "<Figure size 640x480 with 1 Axes>"
      ]
     },
     "metadata": {},
     "output_type": "display_data"
    }
   ],
   "source": [
    "# print(experiment_probs.mean(), experiment_probs.max(), experiment_probs.min(), experiment_probs.std())\n",
    "sns.kdeplot(submission, label='Submission OG', lw=3, alpha=1)\n",
    "sns.kdeplot(training_data['LOGISTIC_REG'], label='PredictionOG', lw=3, alpha=1)\n",
    "sns.kdeplot(experiment_probs, label='Fine tuned solution', lw=3, alpha=1)\n",
    "sns.kdeplot(submission_exp, label='Fine tuned solution per borrower', lw=3, alpha=1)\n",
    "\n",
    "plt.yscale('log')\n",
    "plt.legend()\n",
    "plt.title('Overlayed Histogram of Submission and Predicted Probabilities')\n",
    "plt.show()"
   ]
  }
 ],
 "metadata": {
  "kernelspec": {
   "display_name": "Python 3",
   "language": "python",
   "name": "python3"
  },
  "language_info": {
   "codemirror_mode": {
    "name": "ipython",
    "version": 3
   },
   "file_extension": ".py",
   "mimetype": "text/x-python",
   "name": "python",
   "nbconvert_exporter": "python",
   "pygments_lexer": "ipython3",
   "version": "3.11.5"
  }
 },
 "nbformat": 4,
 "nbformat_minor": 2
}
