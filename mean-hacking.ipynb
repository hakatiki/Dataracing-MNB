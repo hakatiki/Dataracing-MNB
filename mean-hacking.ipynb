{
 "cells": [
  {
   "cell_type": "code",
   "execution_count": 1,
   "metadata": {},
   "outputs": [],
   "source": [
    "# uni_D83AE5_uni (Baseline)\n",
    "#  {\"Logloss\": 0.02929905326872508, \"ROCAUC\": 0.9784653910998551}\n",
    "import numpy as np\n",
    "import pandas as pd\n",
    "import matplotlib.pyplot as plt\n",
    "\n",
    "import seaborn as sns\n",
    "from scipy.stats import gamma, kstest\n",
    "from sklearn.linear_model import LogisticRegression\n",
    "from sklearn.ensemble import RandomForestClassifier, GradientBoostingClassifier\n",
    "from sklearn.svm import SVC\n",
    "from sklearn.naive_bayes import GaussianNB\n",
    "from sklearn.neural_network import MLPClassifier\n",
    "import xgboost as xgb\n",
    "from sklearn.preprocessing import StandardScaler\n",
    "from sklearn.model_selection import train_test_split\n",
    "from sklearn.metrics import (\n",
    "    classification_report, \n",
    "    confusion_matrix, \n",
    "    log_loss, \n",
    "    roc_auc_score, \n",
    "    roc_curve, \n",
    "    auc\n",
    ")\n",
    "import statsmodels.api as sm\n",
    "import warnings\n",
    "\n",
    "warnings.filterwarnings('ignore')  # Use this line to suppress warnings\n",
    "warnings.simplefilter(action='ignore', category=FutureWarning)\n",
    "\n",
    "training_data = pd.read_csv('training_data.csv')\n",
    "training_data = training_data[training_data['BORROWER_ID'] != 'xNullx']\n",
    "training_data = training_data.sample(frac=1, random_state=42).reset_index(drop=True)\n",
    "data_submission_example = pd.read_csv('data_submission_example.csv')"
   ]
  },
  {
   "cell_type": "code",
   "execution_count": 2,
   "metadata": {},
   "outputs": [],
   "source": [
    "training_data.fillna(0, inplace=True)\n",
    "for col in training_data.columns:\n",
    "    try:\n",
    "        training_data[col] = pd.to_numeric(training_data[col], errors='ignore')\n",
    "    except:\n",
    "        continue\n",
    "training_data['TARGET_EVENT_BINARY'] = np.where(training_data['TARGET_EVENT'] == 'K', 1, 0)"
   ]
  },
  {
   "cell_type": "code",
   "execution_count": 3,
   "metadata": {},
   "outputs": [],
   "source": [
    "lognormal_variables = [\n",
    "    'CONTRACT_CREDIT_LOSS', 'CONTRACT_DEPT_SERVICE_TO_INCOME',\n",
    "    'CONTRACT_INCOME', 'CONTRACT_INSTALMENT_AMOUNT', 'CONTRACT_INSTALMENT_AMOUNT_2',\n",
    "    'CONTRACT_LOAN_AMOUNT', 'CONTRACT_MARKET_VALUE', 'CONTRACT_MORTGAGE_LENDING_VALUE', \n",
    "    'CONTRACT_LGD', 'CONTRACT_INCOME'\n",
    "]\n",
    "date_variables = ['CONTRACT_DATE_OF_LOAN_AGREEMENT', 'CONTRACT_MATURITY_DATE']"
   ]
  },
  {
   "cell_type": "code",
   "execution_count": 4,
   "metadata": {},
   "outputs": [],
   "source": [
    "training_data['TARGET_EVENT_DAY'].replace(0.0, np.nan, inplace=True)\n",
    "training_data['TARGET_EVENT_DAY_JULIAN'] = pd.to_datetime(training_data['TARGET_EVENT_DAY'], origin='julian', unit='D', errors='coerce')\n",
    "training_data['TARGET_EVENT_DAY_DATETIME'] = pd.to_datetime(training_data['TARGET_EVENT_DAY_JULIAN'],  errors='coerce')\n",
    "\n",
    "training_data['CONTRACT_DATE_OF_LOAN_AGREEMENT_JULIAN'] = pd.to_datetime(training_data['CONTRACT_DATE_OF_LOAN_AGREEMENT'], origin='julian', unit='D')\n",
    "training_data['CONTRACT_DATE_OF_LOAN_AGREEMENT_DATETIME'] = pd.to_datetime(training_data['CONTRACT_DATE_OF_LOAN_AGREEMENT_JULIAN'],)\n",
    "\n",
    "training_data['CONTRACT_MATURITY_DATE_JULIAN'] = pd.to_datetime(training_data['CONTRACT_MATURITY_DATE'], origin='julian', unit='D')\n",
    "training_data['CONTRACT_MATURITY_DATE_DATETIME'] = pd.to_datetime(training_data['CONTRACT_MATURITY_DATE_JULIAN'])"
   ]
  },
  {
   "cell_type": "code",
   "execution_count": 5,
   "metadata": {},
   "outputs": [],
   "source": [
    "training_data['DAY_DIFF'] = (training_data['TARGET_EVENT_DAY_DATETIME'] - training_data['CONTRACT_DATE_OF_LOAN_AGREEMENT_DATETIME']).dt.days"
   ]
  },
  {
   "cell_type": "code",
   "execution_count": 6,
   "metadata": {},
   "outputs": [],
   "source": [
    "def create_binary_target_column(dataframe, column_name, event, day_diff_upper_limit):\n",
    "    dataframe[column_name] = np.where(\n",
    "        (dataframe['TARGET_EVENT'] == event) & \n",
    "        (dataframe['DAY_DIFF'] <= day_diff_upper_limit) & \n",
    "        (dataframe['DAY_DIFF'] >= 0), \n",
    "        1, \n",
    "        0\n",
    "    )\n",
    "\n",
    "timeframes = {\n",
    "    'TARGET_EVENT_BINARY_2Y': 730,\n",
    "    'TARGET_EVENT_BINARY_1Y': 365,\n",
    "    'TARGET_EVENT_BINARY_6M': 365//2,\n",
    "}\n",
    "\n",
    "for column_name, days in timeframes.items():\n",
    "    create_binary_target_column(training_data, column_name, 'K', days)\n",
    "\n",
    "\n",
    "# target_event_binary_columns = []\n",
    "# for i in range(6):\n",
    "#     start_day = 273 + i * 30\n",
    "#     column_header = 'TARGET_EVENT_BINARY_' + str(start_day) + 'D'\n",
    "#     training_data[column_header] = np.where(\n",
    "#         (training_data['TARGET_EVENT'] == 'K') & \n",
    "#         (training_data['DAY_DIFF'] <= start_day) & \n",
    "#         (training_data['DAY_DIFF'] >= 0), \n",
    "#         1, \n",
    "#         0\n",
    "#     )\n",
    "#     target_event_binary_columns.append(column_header)\n",
    "\n",
    "training_data.drop('DAY_DIFF', axis=1, inplace=True)"
   ]
  },
  {
   "cell_type": "code",
   "execution_count": 7,
   "metadata": {},
   "outputs": [
    {
     "name": "stdout",
     "output_type": "stream",
     "text": [
      "TARGET_EVENT_BINARY\n",
      "0    1590792\n",
      "1      10871\n",
      "Name: count, dtype: int64\n",
      "TARGET_EVENT_BINARY_2Y\n",
      "0    1591751\n",
      "1       9912\n",
      "Name: count, dtype: int64\n",
      "TARGET_EVENT_BINARY_1Y\n",
      "0    1596927\n",
      "1       4736\n",
      "Name: count, dtype: int64\n",
      "TARGET_EVENT_BINARY_6M\n",
      "0    1601267\n",
      "1        396\n",
      "Name: count, dtype: int64\n"
     ]
    }
   ],
   "source": [
    "print(training_data['TARGET_EVENT_BINARY'].value_counts())\n",
    "print(training_data['TARGET_EVENT_BINARY_2Y'].value_counts())\n",
    "print(training_data['TARGET_EVENT_BINARY_1Y'].value_counts())\n",
    "print(training_data['TARGET_EVENT_BINARY_6M'].value_counts())"
   ]
  },
  {
   "cell_type": "code",
   "execution_count": 8,
   "metadata": {},
   "outputs": [
    {
     "data": {
      "text/plain": [
       "['CONTRACT_CREDIT_INTERMEDIARY',\n",
       " 'CONTRACT_CREDIT_LOSS',\n",
       " 'CONTRACT_CURRENCY',\n",
       " 'CONTRACT_DEPT_SERVICE_TO_INCOME',\n",
       " 'CONTRACT_INCOME',\n",
       " 'CONTRACT_INSTALMENT_AMOUNT',\n",
       " 'CONTRACT_INSTALMENT_AMOUNT_2',\n",
       " 'CONTRACT_INTEREST_PERIOD',\n",
       " 'CONTRACT_INTEREST_RATE',\n",
       " 'CONTRACT_LGD',\n",
       " 'CONTRACT_LOAN_AMOUNT',\n",
       " 'CONTRACT_LOAN_CONTRACT_TYPE',\n",
       " 'CONTRACT_LOAN_TO_VALUE_RATIO',\n",
       " 'CONTRACT_MARKET_VALUE',\n",
       " 'CONTRACT_MORTGAGE_LENDING_VALUE',\n",
       " 'CONTRACT_MORTGAGE_TYPE',\n",
       " 'CONTRACT_REFINANCED',\n",
       " 'CONTRACT_RISK_WEIGHTED_ASSETS',\n",
       " 'CONTRACT_TYPE_OF_INTEREST_REPAYMENT',\n",
       " 'BORROWER_BIRTH_YEAR',\n",
       " 'BORROWER_CITIZENSHIP',\n",
       " 'BORROWER_COUNTRY',\n",
       " 'BORROWER_COUNTY',\n",
       " 'BORROWER_TYPE_OF_SETTLEMENT']"
      ]
     },
     "execution_count": 8,
     "metadata": {},
     "output_type": "execute_result"
    }
   ],
   "source": [
    "numeric_columns = training_data.select_dtypes(include=[np.number]).columns.tolist()\n",
    "excluded_keywords = ['TARGET', 'event', 'binary', 'DATE']\n",
    "\n",
    "X_columns = [col for col in numeric_columns if all(keyword.lower() not in col.lower() for keyword in excluded_keywords)]\n",
    "y_column = 'TARGET_EVENT_BINARY_2Y' \n",
    "X_columns"
   ]
  },
  {
   "cell_type": "code",
   "execution_count": null,
   "metadata": {},
   "outputs": [],
   "source": [
    "def calculate_probabilities(data, column, time_factor):\n",
    "    lambdas = -np.log(1 - data[column]) / time_factor\n",
    "    probs_2y = 1 - np.exp(-2 * lambdas)\n",
    "    return probs_2y\n",
    "def calculate_probabilities_vec(data, time_factor):\n",
    "    lambdas = -np.log(1 - data) / time_factor\n",
    "    probs_2y = 1 - np.exp(-2 * lambdas)\n",
    "    return probs_2y\n",
    "# def adjust_probabilities(data, factor):\n",
    "#     odds = data / (1 - data)  # Convert probabilities to odds\n",
    "#     new_odds = odds * factor  # Scale the odds by the factor\n",
    "\n",
    "#     # Convert the new odds back to probabilities\n",
    "#     new_probabilities = new_odds / (1 + new_odds)\n",
    "#     return new_probabilities\n"
   ]
  },
  {
   "cell_type": "code",
   "execution_count": 18,
   "metadata": {},
   "outputs": [],
   "source": [
    "def combined_probability(s):\n",
    "    if len(s) == 2:\n",
    "        p_a, p_b = s.values\n",
    "        return p_a + p_b - p_a * p_b #- (-3.2357827075016176e-05)\n",
    "    else:\n",
    "        return 1 - np.prod(1 - s.values)\n",
    "\n",
    "def create_submission_file(df_preds, target, example, filename='submission.csv', testing=False):\n",
    "    # Filter the data to only include BORROWER_IDs that are in the submission example\n",
    "    filtered_training_data = df_preds[df_preds['BORROWER_ID'].isin(example['BORROWER_ID'])]\n",
    "\n",
    "    # Print warning if the row count is off\n",
    "    if not testing and len(filtered_training_data) != 1564601:\n",
    "        print('WARNING: The filtered data does not have the correct number of rows. Make sure you are not using the training data for submission.')\n",
    "        # raise ValueError('WARNING: The submission file does not have the correct number of rows. Make sure you are not using the training data for submission.')\n",
    "    # Group by BORROWER_ID and calculate the combined probability\n",
    "\n",
    "    #######################x########################\n",
    "    #CUTTING TAILS DID NOT SEEM TO WORK\n",
    "    #######################x########################\n",
    "    # filtered_training_data = cut_exponential_tails(filtered_training_data, target)\n",
    "    grouped_data = filtered_training_data.groupby('BORROWER_ID')[target].apply(combined_probability).reset_index()\n",
    "\n",
    "    # Create the submission DataFrame\n",
    "    df_submission = pd.DataFrame()\n",
    "    df_submission['BORROWER_ID'] = grouped_data['BORROWER_ID']\n",
    "    df_submission['PRED'] = grouped_data[target]\n",
    "    print('Before centering:')\n",
    "    print(df_submission['PRED'].max(), df_submission['PRED'].min(), df_submission['PRED'].mean())\n",
    "\n",
    "    print('Centering probabilities...')\n",
    "    # Center the probabilities around 1.48%\n",
    "    desired_mean = 0.0148  # 1.48% as a decimal\n",
    "    # while (df_submission['PRED'].max() > 1 or df_submission['PRED'].min() < 0 or abs(df_submission['PRED'].mean() -0.0148) > 0.0005):\n",
    "    #     # print(df_submission['PRED'].max(), df_submission['PRED'].min(), df_submission['PRED'].mean())\n",
    "    #     df_submission['PRED'] = df_submission['PRED'].clip(lower=0, upper=1)\n",
    "    #     # print(df_submission['PRED'].max(), df_submission['PRED'].min(), df_submission['PRED'].mean())\n",
    "\n",
    "    #     current_mean = df_submission['PRED'].mean()\n",
    "    #     adjustment_factor = desired_mean  - current_mean\n",
    "    #     df_submission['PRED'] += adjustment_factor\n",
    "    initial_guess = 2\n",
    "    probas_unscaled = df_submission['PRED'].values\n",
    "    new_proba = probas_unscaled.copy()\n",
    "    # while abs(new_proba.mean() - desired_mean) > 0.00001:\n",
    "        \n",
    "    #     new_proba = calculate_probabilities_vec(probas_unscaled, initial_guess)\n",
    "    #     error = new_proba.mean() - desired_mean\n",
    "    #     if error > 0:\n",
    "    #         initial_guess += 0.001\n",
    "    #     else:\n",
    "    #         initial_guess -= 0.001\n",
    "    #     print(error, initial_guess)\n",
    "    # df_submission['PRED'] = new_proba\n",
    "        \n",
    "        \n",
    "    \n",
    "    print(df_submission['PRED'].max(), df_submission['PRED'].min(), df_submission['PRED'].mean())\n",
    "    # Save the submission file\n",
    "    if  not testing and filename is not None:\n",
    "        df_submission.to_csv(filename, index=False)\n",
    "    print(f'Saved file: {filename}')\n",
    "    # if abs(df_submission['PRED'].mean() -0.0148) > 0.0005:\n",
    "    #    raise ValueError('WARNING: mean is bad')\n",
    "        \n",
    "    # Print warning if the row count is off\n",
    "    if not testing and len(df_submission) != 1117674:\n",
    "        print('WARNING: The submission file does not have the correct number of rows. Make sure you are not using the training data for submission.')\n",
    "        # raise ValueError('WARNING: The submission file does not have the correct number of rows. Make sure you are not using the training data for submission.')\n",
    "        \n",
    "    return df_submission\n"
   ]
  },
  {
   "cell_type": "code",
   "execution_count": 12,
   "metadata": {},
   "outputs": [],
   "source": [
    "contracts_2016 = training_data[training_data['CONTRACT_DATE_OF_LOAN_AGREEMENT_DATETIME'] < '2016-01-01']"
   ]
  },
  {
   "cell_type": "code",
   "execution_count": 13,
   "metadata": {},
   "outputs": [
    {
     "data": {
      "text/plain": [
       "0.011345816067598232"
      ]
     },
     "execution_count": 13,
     "metadata": {},
     "output_type": "execute_result"
    }
   ],
   "source": [
    "training_data[training_data['CONTRACT_DATE_OF_LOAN_AGREEMENT_DATETIME'] < '2016-01-01']['TARGET_EVENT_BINARY'].mean()"
   ]
  },
  {
   "cell_type": "code",
   "execution_count": 14,
   "metadata": {},
   "outputs": [],
   "source": [
    "defaults_2016 = contracts_2016[contracts_2016['TARGET_EVENT_BINARY'] == 1]\n",
    "\n",
    "defaults_2015_2017 = defaults_2016[defaults_2016['TARGET_EVENT_DAY_DATETIME'] < '2017-01-01']\n",
    "defaults_2016_2018 = defaults_2016[(defaults_2016['TARGET_EVENT_DAY_DATETIME'] < '2018-01-01') & (defaults_2016['TARGET_EVENT_DAY_DATETIME'] > '2016-01-01')]"
   ]
  },
  {
   "cell_type": "code",
   "execution_count": 15,
   "metadata": {},
   "outputs": [
    {
     "name": "stdout",
     "output_type": "stream",
     "text": [
      "Defaulted in their 1st and 2nd year: 0.006340839129746867\n",
      "Defaulted in their 2nd and 3rd year: 0.0106268137784071\n"
     ]
    }
   ],
   "source": [
    "print(f\"Defaulted in their 1st and 2nd year: {len(defaults_2015_2017)/len(contracts_2016)}\")\n",
    "print(f\"Defaulted in their 2nd and 3rd year: {len(defaults_2016_2018)/len(contracts_2016)}\")"
   ]
  },
  {
   "cell_type": "code",
   "execution_count": null,
   "metadata": {},
   "outputs": [],
   "source": [
    "# 2016 h1 0.007: {\"Logloss\": 0.07576952484866101, \"ROCAUC\": 0.5809069048130779} | 0.0148;\n",
    "# 2016 h1 0.004: {\"Logloss\": 0.0757328275890477, \"ROCAUC\": 0.5808103518691253} | 0.0148;\n",
    "# 2016 h1 0.0055:{\"Logloss\": 0.07572683759226627, \"ROCAUC\": 0.5809141837708658} | 0.0148;\n",
    "# 2016 h1 0.005: {\"Logloss\": 0.07572207835633597, \"ROCAUC\": 0.5809090905637126} | 0.0148; MEAN FOR 2016 H1 : 0.005\n",
    "\n",
    "# 2016 h2 0.006: {\"Logloss\": 0.07467445419709652, \"ROCAUC\": 0.6075441905087731}\n",
    "# 2016 h2 0.007: {\"Logloss\": 0.07472849170280915, \"ROCAUC\": 0.6075493119741427}\n",
    "# 2016 h2 0.0065:{\"Logloss\": 0.07469789814688527, \"ROCAUC\": 0.6075423785066949}\n",
    "# 2016 h2 0.0055:{\"Logloss\": 0.074659309734335, \"ROCAUC\": 0.607561030499619} FURTHER MEAN TESTING NEEDED\n",
    "\n",
    "# 2017 h1 0.0080:{\"Logloss\": 0.07441192921590624, \"ROCAUC\": 0.6164629471570343}\n",
    "# 2017 h1 0.0070:{\"Logloss\": 0.07442699304501614, \"ROCAUC\": 0.6167566473624233}\n",
    "# 2017 h1 0.0085:{\"Logloss\": 0.07441147699155433, \"ROCAUC\": 0.6164700930096506}\n",
    "\n",
    "# 2017 h2 0.0095:{\"Logloss\": 0.07421256516493982, \"ROCAUC\": 0.6261174064771263}\n",
    "# 2017 h2 0.0105:{\"Logloss\": 0.07420875574104989, \"ROCAUC\": 0.6251744099377549}"
   ]
  },
  {
   "cell_type": "code",
   "execution_count": 61,
   "metadata": {},
   "outputs": [
    {
     "name": "stdout",
     "output_type": "stream",
     "text": [
      "Adter scaling:\n",
      "0.01034126829426665\n"
     ]
    }
   ],
   "source": [
    "\n",
    "new_proba = np.zeros(len(training_data))\n",
    "mask_2016_h1 =  (training_data['CONTRACT_DATE_OF_LOAN_AGREEMENT_DATETIME'] > '2015-01-01') & (training_data['CONTRACT_DATE_OF_LOAN_AGREEMENT_DATETIME'] < '2015-06-01') & (training_data['TARGET_EVENT_BINARY'] != 1)\n",
    "mask_2016_h2 =  (training_data['CONTRACT_DATE_OF_LOAN_AGREEMENT_DATETIME'] > '2015-06-01') & (training_data['CONTRACT_DATE_OF_LOAN_AGREEMENT_DATETIME'] < '2016-01-01') & (training_data['TARGET_EVENT_BINARY'] != 1)\n",
    "mask_2017_h1 = (training_data['CONTRACT_DATE_OF_LOAN_AGREEMENT_DATETIME'] > '2016-01-01') & (training_data['CONTRACT_DATE_OF_LOAN_AGREEMENT_DATETIME'] < '2016-06-01')& (training_data['TARGET_EVENT_BINARY'] != 1)\n",
    "mask_2017_h2 = (training_data['CONTRACT_DATE_OF_LOAN_AGREEMENT_DATETIME'] > '2016-06-01') & (training_data['CONTRACT_DATE_OF_LOAN_AGREEMENT_DATETIME'] < '2017-01-01')& (training_data['TARGET_EVENT_BINARY'] != 1)\n",
    "mask_2018_h1 =  (training_data['CONTRACT_DATE_OF_LOAN_AGREEMENT_DATETIME'] > '2017-01-01') & (training_data['CONTRACT_DATE_OF_LOAN_AGREEMENT_DATETIME'] < '2017-06-01') & (training_data['TARGET_EVENT_BINARY'] != 1)\n",
    "mask_2018_h2 =  (training_data['CONTRACT_DATE_OF_LOAN_AGREEMENT_DATETIME'] > '2017-06-01') & (training_data['CONTRACT_DATE_OF_LOAN_AGREEMENT_DATETIME'] < '2018-01-01') & (training_data['TARGET_EVENT_BINARY'] != 1)\n",
    "\n",
    "print('Adter scaling:')\n",
    "new_proba[mask_2016_h1] = 0.005\n",
    "new_proba[mask_2016_h2] = 0.0055\n",
    "new_proba[mask_2017_h1] = 0.0085\n",
    "new_proba[mask_2017_h2] = 0.0105\n",
    "new_proba[mask_2018_h1] = 0.0148\n",
    "new_proba[mask_2018_h2] = 0.0158\n",
    "print(new_proba.mean())"
   ]
  },
  {
   "cell_type": "code",
   "execution_count": 62,
   "metadata": {},
   "outputs": [],
   "source": [
    "training_data['YEAR_SCALED_PROBA'] = new_proba"
   ]
  },
  {
   "cell_type": "code",
   "execution_count": 63,
   "metadata": {},
   "outputs": [
    {
     "name": "stdout",
     "output_type": "stream",
     "text": [
      "Before centering:\n",
      "0.27874487153015237 0.0050000000000000044 0.014561668498440646\n",
      "Centering probabilities...\n",
      "0.27874487153015237 0.0050000000000000044 0.014561668498440646\n",
      "Saved file: ./predictions/2017-h2-95.csv\n"
     ]
    }
   ],
   "source": [
    "submission = create_submission_file(training_data, 'YEAR_SCALED_PROBA', data_submission_example, filename='./predictions/2017-h2-95.csv')"
   ]
  },
  {
   "cell_type": "code",
   "execution_count": 22,
   "metadata": {},
   "outputs": [],
   "source": [
    "# 1.48% {\"Logloss\":   0.0757300655777955, \"ROCAUC\": 0.5}\n",
    "# 1.4477% {\"Logloss\": 0.0757266853599001, \"ROCAUC\": 0.5}\n",
    "submission['PRED'] = 0.0148\n",
    "submission.to_csv('./predictions/148.csv', index=False)"
   ]
  }
 ],
 "metadata": {
  "kernelspec": {
   "display_name": "Python 3",
   "language": "python",
   "name": "python3"
  },
  "language_info": {
   "codemirror_mode": {
    "name": "ipython",
    "version": 3
   },
   "file_extension": ".py",
   "mimetype": "text/x-python",
   "name": "python",
   "nbconvert_exporter": "python",
   "pygments_lexer": "ipython3",
   "version": "3.11.5"
  }
 },
 "nbformat": 4,
 "nbformat_minor": 2
}
